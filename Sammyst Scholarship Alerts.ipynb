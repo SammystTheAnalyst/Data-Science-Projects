{
 "cells": [
  {
   "cell_type": "markdown",
   "id": "5bdb3971-0441-4e41-9a60-89b710dd2465",
   "metadata": {
    "jp-MarkdownHeadingCollapsed": true
   },
   "source": [
    "### Scholarship Alert Project by Samuel Nnamani a.k.a SammystTheAnalyst\n",
    "\n",
    "#### You can reach out to me for collaborations, consultations, and trainings on my Social Media handles\n",
    "* YouTube: @SammystTheAnalyst\n",
    "* Facebook Page: @SammystTheAnalyst\n",
    "* X: @SammystDAnalyst\n",
    "* LinkedIn: @SammystTheAnalyst"
   ]
  },
  {
   "cell_type": "markdown",
   "id": "1aba5dbe-932d-44d9-9d43-d16d5b5476a6",
   "metadata": {},
   "source": [
    "### STEP 1: Import Libraries"
   ]
  },
  {
   "cell_type": "code",
   "execution_count": 18,
   "id": "274c3470-6a02-4e8c-9d39-9ec96079b0a3",
   "metadata": {},
   "outputs": [],
   "source": [
    "# import necessary libraries for web scraping the scholarship descriptions\n",
    "from bs4 import BeautifulSoup\n",
    "import requests\n",
    "import re\n",
    "import json\n",
    "import os\n",
    "import time"
   ]
  },
  {
   "cell_type": "markdown",
   "id": "e865fa70-a4e8-44c1-8d4e-e9fc87435ee2",
   "metadata": {},
   "source": [
    "### STEP 2: Data Scraping\n",
    "\n",
    "#### For this project, I scraped the scholarship title, link to apply, scholarship ad offer,  scholarship category, worth of award, scholarship amount, deadline, and grade level."
   ]
  },
  {
   "cell_type": "code",
   "execution_count": 19,
   "id": "0f081610-feb1-434d-9d56-38db96b682c7",
   "metadata": {},
   "outputs": [],
   "source": [
    "# Fetching the data from the website\n",
    "data = []\n",
    "for page in range(0, 51):\n",
    "    url = \"https://scholarships360.org/scholarships/top-scholarships-for-graduate-students/?sidebar_sort=relevant&current_page={page}&filter=all\".format(page=page)\n",
    "    response = requests.get(url)\n",
    "    soup = BeautifulSoup(response.text, \"html.parser\")\n",
    "    scholarships = soup.find_all(\"div\", class_=\"re-scholarship-card-data-wrap\")\n",
    "    \n",
    "# Using for loop to get the individual element tags for the scholarship description    \n",
    "    for scholarship in scholarships:\n",
    "        sch_info = {}\n",
    "        title_1 = scholarship.find('h4').text.strip()\n",
    "        sch_info['Title'] = str(title_1.split('\\t')[0])                                       # Converts to string\n",
    "        sch_info['Application_link'] = scholarship.find('a')[\"href\"]\n",
    "        org_offer_1 = scholarship.find('div').get_text()\n",
    "        sch_info['Scholarship_Ad_Offer'] = str(org_offer_1.split('\\n')[16])                   # Converts to string\n",
    "        sch_class_1 = str(org_offer_1.split('\\n')[17]) if org_offer_1 else \"Not Available\"    # Isolate only the class of scholarship\n",
    "        sch_info['Scholarship_category'] = re.sub(r'\\$\\d{1,3}(,\\d{3})*', \"Not Available\", sch_class_1)  # Replace any $ and , values with \"Not Available\"\n",
    "        sch_info['Worth_of_award'] = scholarship.find('span', class_=\"re-scholarship-card-info-name\").get_text()\n",
    "        sch_info['Scholarship_amount'] = scholarship.find('span', class_=\"re-scholarship-card-info-value\").get_text()\n",
    "        deadline_1 = scholarship.find('div', class_=\"re-scholarship-card-mob_bottom\").get_text()\n",
    "        sch_info['Deadline'] = str(deadline_1.split('\\n')[13])          # Converts to string\n",
    "        sch_info['Grade_level'] = str(deadline_1.split('\\n')[17])       # Converts to string\n",
    "        data.append(sch_info)"
   ]
  },
  {
   "cell_type": "markdown",
   "id": "b641f97a-c9a6-4d0e-88ea-4964f14ac433",
   "metadata": {},
   "source": [
    "### STEP 3: Setting UP the Telegram BOT configurations\n",
    "\n",
    "##### Kindly note:\n",
    "* 1. The bot_token displayed is not the original bot token issued to me by Telegram.\n",
    "* 2. The chat_id displayed is not the original chat id issued to me by Telegram."
   ]
  },
  {
   "cell_type": "code",
   "execution_count": null,
   "id": "b188af94-c4a4-47e2-a6ea-829b64056219",
   "metadata": {},
   "outputs": [],
   "source": [
    "# Setting up the Telegram BOT Credentials\n",
    "bot_token = \"7991611150:BBGn1-ycU9M1q5OkUbBPGYfZ_ugRcySqwlp\"\n",
    "chat_id = \"2769920345\"\n",
    "\n",
    "# File to store sent scholarsships\n",
    "sent_file = \"scholarships.json\"\n",
    "\n",
    "# Function to load sent scholarships\n",
    "def load_sent_file():\n",
    "    if os.path.exists(sent_file):\n",
    "        with open(sent_file, \"r\") as f:\n",
    "            return set(json.load(f))\n",
    "    return set()\n",
    "\n",
    "# Function to save sent scholarships\n",
    "def save_sent_file(sent_scholarships):\n",
    "    with open(sent_file, \"w\") as f:\n",
    "        json.dump(list(sent_scholarships), f)\n",
    "\n",
    "# Function Telegram bot to receive the alert and send as a message.  \n",
    "def send_telegram_message(message):\n",
    "    url = f\"https://api.telegram.org/bot7991611150:BBGn1-ycU9M1q5OkUbBPGYfZ_ugRcySqwlp/sendMessage\"\n",
    "    data = {\"chat_id\": chat_id, \"text\": message, \"parse_mode\": \"Markdown\"}\n",
    "    \n",
    "    # In the case of timeout, the function to check for errors and print\n",
    "    try:\n",
    "        response = requests.post(url, data=data)                 \n",
    "        response.raise_for_status()                              # Check for HTTP errors\n",
    "        time.sleep(1.5)                                          # Add delay for 1.5seconds\n",
    "    except requests.exceptions.HTTPError as e:\n",
    "        print(f\"🚨 Telegram API Error: {e}\")\n",
    "    except requests.exceptions.RequestException as e:\n",
    "        print(f\"⚠️ Request failed: {e}\")\n",
    "        \n",
    "# Load already sent scholarships\n",
    "sent_scholarships = load_sent_file()\n",
    "\n",
    "# Loop through the scraped scholarship data\n",
    "new_scholarships = []\n",
    "for sch_info in data:\n",
    "    # Use title as a unique identifier\n",
    "    sch_id = sch_info[\"Title\"]\n",
    "    if sch_id not in sent_scholarships:\n",
    "        message = f\"\"\" 🎓*New Scholarship Alert*\n",
    "    📌 **Title:** {sch_info['Title']}\n",
    "    🏢 **Offered By:** {sch_info['Scholarship_Ad_Offer']}\n",
    "    💰 **Amount:** {sch_info['Scholarship_amount']}\n",
    "    📅 **Deadline:** {sch_info['Deadline']}\n",
    "    🎓 **Grade Level:** {sch_info['Grade_level']}\n",
    "    🔗 [Apply Here]({sch_info['Application_link']})\n",
    "    \"\"\"\n",
    "\n",
    "        send_telegram_message(message)\n",
    "        new_scholarships.append(sch_id)\n",
    "\n",
    "# Update the sent sccholarships file\n",
    "sent_scholarships.update(new_scholarships)\n",
    "# save_sent_scholarships(sent_scholarships)"
   ]
  },
  {
   "cell_type": "markdown",
   "id": "be979ab1-9fbe-49f5-9e7e-6ebb58ae1355",
   "metadata": {},
   "source": [
    "### Additional Step but not compulsory\n",
    "#### Sending the scraped data to Zapier for Automation process"
   ]
  },
  {
   "cell_type": "code",
   "execution_count": 3,
   "id": "dea21304-4014-43e7-b7b0-125ad9d08dba",
   "metadata": {},
   "outputs": [],
   "source": [
    "# # Zapier Webhook URl\n",
    "# zapier_webhook_url = \"https://hooks.zapier.com/hooks/catch/22278614/2chovj9/\"\n",
    "\n",
    "# # Send data to Zapier Webhook\n",
    "#     for sch_info in data:\n",
    "#         response = requests.post(zapier_webhook_url, json=sch_info)\n",
    "#         # print(f\"Sent to Zapier: {sch_info}, Status: {response.status_code}\")"
   ]
  },
  {
   "cell_type": "code",
   "execution_count": null,
   "id": "4170a5f0-e748-440e-b642-ca36ea442de4",
   "metadata": {},
   "outputs": [],
   "source": []
  }
 ],
 "metadata": {
  "kernelspec": {
   "display_name": "Python 3 (ipykernel)",
   "language": "python",
   "name": "python3"
  },
  "language_info": {
   "codemirror_mode": {
    "name": "ipython",
    "version": 3
   },
   "file_extension": ".py",
   "mimetype": "text/x-python",
   "name": "python",
   "nbconvert_exporter": "python",
   "pygments_lexer": "ipython3",
   "version": "3.12.7"
  }
 },
 "nbformat": 4,
 "nbformat_minor": 5
}
