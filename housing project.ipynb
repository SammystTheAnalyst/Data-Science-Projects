{
 "cells": [
  {
   "cell_type": "markdown",
   "id": "0cc4f9eb",
   "metadata": {},
   "source": [
    "# Explorative Analysis of Properties in Nigeria"
   ]
  },
  {
   "cell_type": "markdown",
   "id": "0dcb169a",
   "metadata": {},
   "source": [
    "I import the necessary libraries for the analysis"
   ]
  },
  {
   "cell_type": "code",
   "execution_count": 1,
   "id": "f6db4968",
   "metadata": {},
   "outputs": [],
   "source": [
    "from bs4 import BeautifulSoup\n",
    "import requests\n",
    "import pandas as pd"
   ]
  },
  {
   "cell_type": "markdown",
   "id": "233bc6d2",
   "metadata": {},
   "source": [
    "# Data Scrapping\n",
    "\n",
    "I scrape the data containing nature of the property, type of property, date posted, date updated, address of property, number of beds, baths and toilets.\n",
    "N.B. Property in this case include lands and houses."
   ]
  },
  {
   "cell_type": "code",
   "execution_count": null,
   "id": "f2ba6954",
   "metadata": {},
   "outputs": [],
   "source": [
    "property_ng = {}\n",
    "property_no = 0\n",
    "\n",
    "headers = {\"User-Agent\": \"Mozilla/5.0 (Windows NT 10.0; Win64; x64) AppleWebKit/537.36 (KHTML, like Gecko) Chrome/104.0.0.0 Safari/537.36\",}\n",
    "\n",
    "for page in range(0,25):\n",
    "    url = \"https://www.propertypro.ng/property-for-sale?search=&auto=&type=&bedroom=&min_price=&max_price={page}\".format(page=page)\n",
    "    response = requests.get(url, headers=headers)\n",
    "    data = response.text\n",
    "    soup = BeautifulSoup(data, 'html.parser')\n",
    "    properties = soup.find_all('div',{'class':'single-room-sale listings-property'})\n",
    "    for prop in properties:\n",
    "\n",
    "        date_posted = prop.find('h5', class_=False, id=False).text.replace(',', ' ')\n",
    "        date_updated = date_posted.split()[1:4]\n",
    "        nature_of_property = prop.find('h4', {'class':\"listings-property-title\"}).text\n",
    "        type_of_property = prop.find('h3', {'class':\"listings-property-title2\"}).text\n",
    "        address_of_property = prop.find('h4', class_=False, id=False).text\n",
    "        no_Beds_Baths_Toilets = prop.find('div', {'class':\"fur-areea\"})\n",
    "        no_of_beds_baths_toilets = no_Beds_Baths_Toilets.text.replace('\\n',' ') if no_Beds_Baths_Toilets else \"Not Available\"\n",
    "\n",
    "        property_no+=1\n",
    "        property_ng[property_no] = [date_posted,date_updated,nature_of_property,type_of_property,address_of_property,no_of_beds_baths_toilets]\n",
    "    #print('Total properties:', property_no)\n",
    "    property_df1 = pd.DataFrame.from_dict(property_ng, orient = 'index', columns = ['Date_posted','Date_updated','Nature_of_property','Type_of_property','Property_Location','No_of_beds_baths_toilets'])"
   ]
  },
  {
   "cell_type": "code",
   "execution_count": null,
   "id": "0e2b1ee2",
   "metadata": {},
   "outputs": [],
   "source": [
    "# Getting the top rows of the data\n",
    "property_df1.head()"
   ]
  },
  {
   "cell_type": "code",
   "execution_count": null,
   "id": "ab32c64a",
   "metadata": {},
   "outputs": [],
   "source": [
    "# Saving to CSV\n",
    "property_df1.to_csv('Property_data.csv')"
   ]
  },
  {
   "cell_type": "markdown",
   "id": "f661ca31",
   "metadata": {},
   "source": [
    "# Reading the property data"
   ]
  },
  {
   "cell_type": "code",
   "execution_count": 2,
   "id": "8173915a",
   "metadata": {},
   "outputs": [
    {
     "name": "stdout",
     "output_type": "stream",
     "text": [
      "   Unnamed: 0                                Date_posted  \\\n",
      "0           1    Updated 28 Aug 2022  Added 17 May 2022    \n",
      "1           2    Updated 29 Aug 2022  Added 05 Aug 2022    \n",
      "2           3    Updated 22 Aug 2022  Added 11 Apr 2022    \n",
      "3           4    Updated 28 Jul 2022  Added 09 Nov 2021    \n",
      "4           5    Updated 28 Jul 2022  Added 14 Jan 2022    \n",
      "\n",
      "            Date_updated        Nature_of_property  \\\n",
      "0  ['28', 'Aug', '2022']  4 BEDROOM HOUSE FOR SALE   \n",
      "1  ['29', 'Aug', '2022']             LAND FOR SALE   \n",
      "2  ['22', 'Aug', '2022']             LAND FOR SALE   \n",
      "3  ['28', 'Jul', '2022']             LAND FOR SALE   \n",
      "4  ['28', 'Jul', '2022']             LAND FOR SALE   \n",
      "\n",
      "                          Type_of_property  \\\n",
      "0  Spacious 4 Bedroom Semi Detached Duplex   \n",
      "1                      2400sqm Land For Jv   \n",
      "2    Joint Venture Land Measuring 21 Plots   \n",
      "3                   Land For Sale In Lekki   \n",
      "4                8000 Sqm Of Joint Venture   \n",
      "\n",
      "                                   Property_Location  \\\n",
      "0                        Second Tollgate Lekki Lagos   \n",
      "1                                  Ikate Lekki Lagos   \n",
      "2  Chevron Cooperative Estate, Alpha Beach New Ro...   \n",
      "3                                        Lekki Lagos   \n",
      "4                          Lekki Phase 1 Lekki Lagos   \n",
      "\n",
      "     No_of_beds_baths_toilets  \n",
      "0   4 beds 4 baths 5 Toilets   \n",
      "1   0 beds 0 baths 0 Toilets   \n",
      "2       beds  baths  Toilets   \n",
      "3   0 beds 0 baths 0 Toilets   \n",
      "4   0 beds 0 baths 0 Toilets   \n"
     ]
    }
   ],
   "source": [
    "property_df1 = pd.read_csv('Property_data.csv')\n",
    "\n",
    "print(property_df1.head())"
   ]
  },
  {
   "cell_type": "code",
   "execution_count": 3,
   "id": "76dae8ab",
   "metadata": {},
   "outputs": [
    {
     "data": {
      "text/plain": [
       "Index(['Unnamed: 0', 'Date_posted', 'Date_updated', 'Nature_of_property',\n",
       "       'Type_of_property', 'Property_Location', 'No_of_beds_baths_toilets'],\n",
       "      dtype='object')"
      ]
     },
     "execution_count": 3,
     "metadata": {},
     "output_type": "execute_result"
    }
   ],
   "source": [
    "property_df1.columns"
   ]
  },
  {
   "cell_type": "markdown",
   "id": "8885ed13",
   "metadata": {},
   "source": [
    "# Data Cleaning\n",
    "\n",
    "1. Dropping redundant column(s)\n",
    "2. Column Separation\n",
    "3. Identifying and removing the null values"
   ]
  },
  {
   "cell_type": "markdown",
   "id": "ab04bae9",
   "metadata": {},
   "source": [
    "I shall drop some columns that are not essential to our analysis"
   ]
  },
  {
   "cell_type": "code",
   "execution_count": 4,
   "id": "39d8f70e",
   "metadata": {},
   "outputs": [
    {
     "data": {
      "text/plain": [
       "Index(['Date_posted', 'Nature_of_property', 'Type_of_property',\n",
       "       'Property_Location', 'No_of_beds_baths_toilets'],\n",
       "      dtype='object')"
      ]
     },
     "execution_count": 4,
     "metadata": {},
     "output_type": "execute_result"
    }
   ],
   "source": [
    "property_df2 = property_df1.drop(columns=['Date_updated','Unnamed: 0'])\n",
    "\n",
    "# Confirming deletion of the columns\n",
    "\n",
    "property_df2.columns"
   ]
  },
  {
   "cell_type": "markdown",
   "id": "fa94226b",
   "metadata": {},
   "source": [
    "I shall separate the columns below:\n",
    "1. 'Date_posted' into 'Date added' and 'Date updated'\n",
    "2. 'No_of_beds_baths_toilets' into 'No_of_beds', 'No_of_baths' and 'No_of_toilets'"
   ]
  },
  {
   "cell_type": "markdown",
   "id": "7f55abe8",
   "metadata": {},
   "source": [
    "# 1."
   ]
  },
  {
   "cell_type": "code",
   "execution_count": 5,
   "id": "028339d1",
   "metadata": {},
   "outputs": [],
   "source": [
    "# I removed the values that have 'added' behind them, assigning them to a new column 'Date_updated'\n",
    "property_df2['Date_updated'] = property_df2['Date_posted'].apply(lambda row:row[:row.find('Added')])\n",
    "\n",
    "# I remove the string 'Updated' in the new column\n",
    "property_df2['Date_updated'] = property_df2['Date_updated'].str.strip('Updated ')"
   ]
  },
  {
   "cell_type": "code",
   "execution_count": 6,
   "id": "3445105d",
   "metadata": {},
   "outputs": [],
   "source": [
    "# I create a new list 'Date_added' to put it the values\n",
    "\n",
    "Date_added = []\n",
    "\n",
    "for i in property_df2['Date_posted']:\n",
    "    if 'Added' in i:\n",
    "        ans = i.split('Added')[1]\n",
    "    else:\n",
    "        answer = i\n",
    "    Date_added.append(ans)\n",
    "    \n",
    "# I convert the list into a new column 'Date_added' in the data\n",
    "\n",
    "property_df2['Date_added'] = Date_added"
   ]
  },
  {
   "cell_type": "code",
   "execution_count": 7,
   "id": "7d89eb91",
   "metadata": {},
   "outputs": [
    {
     "data": {
      "text/plain": [
       "Index(['Date_posted', 'Nature_of_property', 'Type_of_property',\n",
       "       'Property_Location', 'No_of_beds_baths_toilets', 'Date_updated',\n",
       "       'Date_added'],\n",
       "      dtype='object')"
      ]
     },
     "execution_count": 7,
     "metadata": {},
     "output_type": "execute_result"
    }
   ],
   "source": [
    "# Confirming the inclusion of the new columns in the data\n",
    "property_df2.columns"
   ]
  },
  {
   "cell_type": "markdown",
   "id": "ba8502a5",
   "metadata": {},
   "source": [
    "Since the column 'Date_posted' won't be needed again, I simply drop it."
   ]
  },
  {
   "cell_type": "code",
   "execution_count": 8,
   "id": "0cedf81a",
   "metadata": {},
   "outputs": [
    {
     "data": {
      "text/html": [
       "<div>\n",
       "<style scoped>\n",
       "    .dataframe tbody tr th:only-of-type {\n",
       "        vertical-align: middle;\n",
       "    }\n",
       "\n",
       "    .dataframe tbody tr th {\n",
       "        vertical-align: top;\n",
       "    }\n",
       "\n",
       "    .dataframe thead th {\n",
       "        text-align: right;\n",
       "    }\n",
       "</style>\n",
       "<table border=\"1\" class=\"dataframe\">\n",
       "  <thead>\n",
       "    <tr style=\"text-align: right;\">\n",
       "      <th></th>\n",
       "      <th>Nature_of_property</th>\n",
       "      <th>Type_of_property</th>\n",
       "      <th>Property_Location</th>\n",
       "      <th>No_of_beds_baths_toilets</th>\n",
       "      <th>Date_updated</th>\n",
       "      <th>Date_added</th>\n",
       "    </tr>\n",
       "  </thead>\n",
       "  <tbody>\n",
       "    <tr>\n",
       "      <th>0</th>\n",
       "      <td>4 BEDROOM HOUSE FOR SALE</td>\n",
       "      <td>Spacious 4 Bedroom Semi Detached Duplex</td>\n",
       "      <td>Second Tollgate Lekki Lagos</td>\n",
       "      <td>4 beds 4 baths 5 Toilets</td>\n",
       "      <td>28 Aug 2022</td>\n",
       "      <td>17 May 2022</td>\n",
       "    </tr>\n",
       "    <tr>\n",
       "      <th>1</th>\n",
       "      <td>LAND FOR SALE</td>\n",
       "      <td>2400sqm Land For Jv</td>\n",
       "      <td>Ikate Lekki Lagos</td>\n",
       "      <td>0 beds 0 baths 0 Toilets</td>\n",
       "      <td>29 Aug 2022</td>\n",
       "      <td>05 Aug 2022</td>\n",
       "    </tr>\n",
       "    <tr>\n",
       "      <th>2</th>\n",
       "      <td>LAND FOR SALE</td>\n",
       "      <td>Joint Venture Land Measuring 21 Plots</td>\n",
       "      <td>Chevron Cooperative Estate, Alpha Beach New Ro...</td>\n",
       "      <td>beds  baths  Toilets</td>\n",
       "      <td>22 Aug 2022</td>\n",
       "      <td>11 Apr 2022</td>\n",
       "    </tr>\n",
       "    <tr>\n",
       "      <th>3</th>\n",
       "      <td>LAND FOR SALE</td>\n",
       "      <td>Land For Sale In Lekki</td>\n",
       "      <td>Lekki Lagos</td>\n",
       "      <td>0 beds 0 baths 0 Toilets</td>\n",
       "      <td>28 Jul 2022</td>\n",
       "      <td>09 Nov 2021</td>\n",
       "    </tr>\n",
       "    <tr>\n",
       "      <th>4</th>\n",
       "      <td>LAND FOR SALE</td>\n",
       "      <td>8000 Sqm Of Joint Venture</td>\n",
       "      <td>Lekki Phase 1 Lekki Lagos</td>\n",
       "      <td>0 beds 0 baths 0 Toilets</td>\n",
       "      <td>28 Jul 2022</td>\n",
       "      <td>14 Jan 2022</td>\n",
       "    </tr>\n",
       "    <tr>\n",
       "      <th>...</th>\n",
       "      <td>...</td>\n",
       "      <td>...</td>\n",
       "      <td>...</td>\n",
       "      <td>...</td>\n",
       "      <td>...</td>\n",
       "      <td>...</td>\n",
       "    </tr>\n",
       "    <tr>\n",
       "      <th>481</th>\n",
       "      <td>LAND FOR SALE</td>\n",
       "      <td>Land</td>\n",
       "      <td>Caritas Luxury Homes Okun Iseki Ibeju Lekki Fr...</td>\n",
       "      <td>0 beds 0 baths 0 Toilets</td>\n",
       "      <td>11 Apr 2022</td>\n",
       "      <td>30 Jan 2022</td>\n",
       "    </tr>\n",
       "    <tr>\n",
       "      <th>482</th>\n",
       "      <td>LAND FOR SALE</td>\n",
       "      <td>Land</td>\n",
       "      <td>Ibeju Lekki Lagos</td>\n",
       "      <td>0 beds 0 baths 0 Toilets</td>\n",
       "      <td></td>\n",
       "      <td>09 Mar 2022</td>\n",
       "    </tr>\n",
       "    <tr>\n",
       "      <th>483</th>\n",
       "      <td>6 BEDROOM HOUSE FOR SALE</td>\n",
       "      <td>6 Bedroom Fully Detached</td>\n",
       "      <td>Banana Island Ikoyi Lagos</td>\n",
       "      <td>6 beds 7 baths 6 Toilets</td>\n",
       "      <td></td>\n",
       "      <td>07 Mar 2022</td>\n",
       "    </tr>\n",
       "    <tr>\n",
       "      <th>484</th>\n",
       "      <td>LAND FOR SALE</td>\n",
       "      <td>Land</td>\n",
       "      <td>Epe Lagos</td>\n",
       "      <td>0 beds 0 baths 0 Toilets</td>\n",
       "      <td></td>\n",
       "      <td>24 Feb 2022</td>\n",
       "    </tr>\n",
       "    <tr>\n",
       "      <th>485</th>\n",
       "      <td>LAND FOR SALE</td>\n",
       "      <td>Land</td>\n",
       "      <td>Abijo Ajah Lagos</td>\n",
       "      <td>0 beds 0 baths 0 Toilets</td>\n",
       "      <td></td>\n",
       "      <td>20 Aug 2022</td>\n",
       "    </tr>\n",
       "  </tbody>\n",
       "</table>\n",
       "<p>486 rows × 6 columns</p>\n",
       "</div>"
      ],
      "text/plain": [
       "           Nature_of_property                         Type_of_property  \\\n",
       "0    4 BEDROOM HOUSE FOR SALE  Spacious 4 Bedroom Semi Detached Duplex   \n",
       "1               LAND FOR SALE                      2400sqm Land For Jv   \n",
       "2               LAND FOR SALE    Joint Venture Land Measuring 21 Plots   \n",
       "3               LAND FOR SALE                   Land For Sale In Lekki   \n",
       "4               LAND FOR SALE                8000 Sqm Of Joint Venture   \n",
       "..                        ...                                      ...   \n",
       "481             LAND FOR SALE                                     Land   \n",
       "482             LAND FOR SALE                                     Land   \n",
       "483  6 BEDROOM HOUSE FOR SALE                 6 Bedroom Fully Detached   \n",
       "484             LAND FOR SALE                                     Land   \n",
       "485             LAND FOR SALE                                     Land   \n",
       "\n",
       "                                     Property_Location  \\\n",
       "0                          Second Tollgate Lekki Lagos   \n",
       "1                                    Ikate Lekki Lagos   \n",
       "2    Chevron Cooperative Estate, Alpha Beach New Ro...   \n",
       "3                                          Lekki Lagos   \n",
       "4                            Lekki Phase 1 Lekki Lagos   \n",
       "..                                                 ...   \n",
       "481  Caritas Luxury Homes Okun Iseki Ibeju Lekki Fr...   \n",
       "482                                  Ibeju Lekki Lagos   \n",
       "483                          Banana Island Ikoyi Lagos   \n",
       "484                                          Epe Lagos   \n",
       "485                                   Abijo Ajah Lagos   \n",
       "\n",
       "       No_of_beds_baths_toilets Date_updated     Date_added  \n",
       "0     4 beds 4 baths 5 Toilets   28 Aug 2022   17 May 2022   \n",
       "1     0 beds 0 baths 0 Toilets   29 Aug 2022   05 Aug 2022   \n",
       "2         beds  baths  Toilets   22 Aug 2022   11 Apr 2022   \n",
       "3     0 beds 0 baths 0 Toilets   28 Jul 2022   09 Nov 2021   \n",
       "4     0 beds 0 baths 0 Toilets   28 Jul 2022   14 Jan 2022   \n",
       "..                          ...          ...            ...  \n",
       "481   0 beds 0 baths 0 Toilets   11 Apr 2022   30 Jan 2022   \n",
       "482   0 beds 0 baths 0 Toilets                 09 Mar 2022   \n",
       "483   6 beds 7 baths 6 Toilets                 07 Mar 2022   \n",
       "484   0 beds 0 baths 0 Toilets                 24 Feb 2022   \n",
       "485   0 beds 0 baths 0 Toilets                 20 Aug 2022   \n",
       "\n",
       "[486 rows x 6 columns]"
      ]
     },
     "execution_count": 8,
     "metadata": {},
     "output_type": "execute_result"
    }
   ],
   "source": [
    "property_df2 = property_df2.drop(columns='Date_posted')\n",
    "\n",
    "property_df2"
   ]
  },
  {
   "cell_type": "markdown",
   "id": "a8a06f77",
   "metadata": {},
   "source": [
    "# 2."
   ]
  },
  {
   "cell_type": "code",
   "execution_count": 9,
   "id": "71c3bfbb",
   "metadata": {},
   "outputs": [],
   "source": [
    "# I create a new list 'No_of_beds' to put in the values\n",
    "\n",
    "No_of_beds = []\n",
    "for i in property_df2['No_of_beds_baths_toilets']:\n",
    "    if 'beds' in i:\n",
    "        ans = i.split('beds')[0]\n",
    "    else:\n",
    "        ans = i\n",
    "    No_of_beds.append(ans)\n",
    "    \n",
    "# I convert the list into a new column 'No_of_beds' in the data\n",
    "\n",
    "property_df2['No_of_beds'] = No_of_beds"
   ]
  },
  {
   "cell_type": "code",
   "execution_count": 10,
   "id": "fda280ed",
   "metadata": {},
   "outputs": [],
   "source": [
    "# I create a new list 'No_of_baths' to put in the values\n",
    "\n",
    "No_of_baths = []\n",
    "for i in property_df2['No_of_beds_baths_toilets']:\n",
    "    if 'baths' in i:\n",
    "        ans = i.split('baths')[0]\n",
    "    else:\n",
    "        ans = i\n",
    "    No_of_baths.append(ans)\n",
    "    \n",
    "# Since the result above still contains the string 'beds' and its values, i have to remove them\n",
    "\n",
    "No_of_bath = []\n",
    "for i in No_of_baths:\n",
    "    if 'beds' in i:\n",
    "        ans = i.split('beds')[1]\n",
    "    else:\n",
    "        ans = i\n",
    "    No_of_bath.append(ans)\n",
    "    \n",
    "# I convert the list into a new column 'No_of_baths' in the data\n",
    "\n",
    "property_df2['No_of_baths'] = No_of_bath"
   ]
  },
  {
   "cell_type": "code",
   "execution_count": 11,
   "id": "e53320d8",
   "metadata": {},
   "outputs": [],
   "source": [
    "# I create a new list 'No_of_toilets' to put in the values\n",
    "\n",
    "No_of_toilets = []\n",
    "for i in property_df2['No_of_beds_baths_toilets']:\n",
    "    if 'Toilets' in i:\n",
    "        ans = i.split('Toilets')[0]\n",
    "    else:\n",
    "        ans = i\n",
    "    No_of_toilets.append(ans)\n",
    "    \n",
    "# Since the result above still contains the string 'beds', 'baths' and their values, i have to remove them\n",
    "\n",
    "No_of_toilet = []\n",
    "for i in No_of_toilets:\n",
    "    if 'beds' in i:\n",
    "        ans = i.split('beds')[1]\n",
    "    else:\n",
    "        ans = i\n",
    "    No_of_toilet.append(ans)\n",
    "    \n",
    "No_of_Toilet = []\n",
    "for i in No_of_toilet:\n",
    "    if 'baths' in i:\n",
    "        ans = i.split('baths')[1]\n",
    "    else:\n",
    "        ans = i\n",
    "    No_of_Toilet.append(ans)\n",
    "    \n",
    "# I convert the list into a new column 'No_of_toilets' in the data\n",
    "\n",
    "property_df2['No_of_toilets'] = No_of_Toilet"
   ]
  },
  {
   "cell_type": "code",
   "execution_count": 12,
   "id": "23cda10f",
   "metadata": {},
   "outputs": [],
   "source": [
    "# I delete the column 'No_of_beds_baths_toilets' in the data\n",
    "\n",
    "property_df3 = property_df2.drop(columns=['No_of_beds_baths_toilets'])"
   ]
  },
  {
   "cell_type": "markdown",
   "id": "f84e94f6",
   "metadata": {},
   "source": [
    "# 3."
   ]
  },
  {
   "cell_type": "code",
   "execution_count": 13,
   "id": "2faf1f49",
   "metadata": {},
   "outputs": [
    {
     "data": {
      "text/plain": [
       "Nature_of_property    0\n",
       "Type_of_property      0\n",
       "Property_Location     0\n",
       "Date_updated          0\n",
       "Date_added            0\n",
       "No_of_beds            0\n",
       "No_of_baths           0\n",
       "No_of_toilets         0\n",
       "dtype: int64"
      ]
     },
     "execution_count": 13,
     "metadata": {},
     "output_type": "execute_result"
    }
   ],
   "source": [
    "# Identifying null values in the dataset\n",
    "\n",
    "property_df3.isnull().sum()"
   ]
  },
  {
   "cell_type": "code",
   "execution_count": 14,
   "id": "43de2a39",
   "metadata": {},
   "outputs": [
    {
     "name": "stdout",
     "output_type": "stream",
     "text": [
      "<class 'pandas.core.frame.DataFrame'>\n",
      "RangeIndex: 486 entries, 0 to 485\n",
      "Data columns (total 8 columns):\n",
      " #   Column              Non-Null Count  Dtype \n",
      "---  ------              --------------  ----- \n",
      " 0   Nature_of_property  486 non-null    object\n",
      " 1   Type_of_property    486 non-null    object\n",
      " 2   Property_Location   486 non-null    object\n",
      " 3   Date_updated        486 non-null    object\n",
      " 4   Date_added          486 non-null    object\n",
      " 5   No_of_beds          486 non-null    object\n",
      " 6   No_of_baths         486 non-null    object\n",
      " 7   No_of_toilets       486 non-null    object\n",
      "dtypes: object(8)\n",
      "memory usage: 30.5+ KB\n"
     ]
    }
   ],
   "source": [
    "# Collecting necessary info about each column of the data\n",
    "\n",
    "property_df3.info()"
   ]
  },
  {
   "cell_type": "markdown",
   "id": "2258096f",
   "metadata": {},
   "source": [
    "# Data Analysis"
   ]
  },
  {
   "cell_type": "code",
   "execution_count": 15,
   "id": "8de347e0",
   "metadata": {},
   "outputs": [],
   "source": [
    "# Checking duplicate values\n",
    "\n",
    "property_df3.duplicated().sum()\n",
    "\n",
    "# Drop duplicate values\n",
    "\n",
    "property_df4 = property_df3.drop_duplicates()"
   ]
  },
  {
   "cell_type": "code",
   "execution_count": 16,
   "id": "357d9da4",
   "metadata": {},
   "outputs": [
    {
     "data": {
      "text/html": [
       "<div>\n",
       "<style scoped>\n",
       "    .dataframe tbody tr th:only-of-type {\n",
       "        vertical-align: middle;\n",
       "    }\n",
       "\n",
       "    .dataframe tbody tr th {\n",
       "        vertical-align: top;\n",
       "    }\n",
       "\n",
       "    .dataframe thead th {\n",
       "        text-align: right;\n",
       "    }\n",
       "</style>\n",
       "<table border=\"1\" class=\"dataframe\">\n",
       "  <thead>\n",
       "    <tr style=\"text-align: right;\">\n",
       "      <th></th>\n",
       "      <th>Nature_of_property</th>\n",
       "      <th>Type_of_property</th>\n",
       "      <th>Property_Location</th>\n",
       "      <th>Date_updated</th>\n",
       "      <th>Date_added</th>\n",
       "      <th>No_of_beds</th>\n",
       "      <th>No_of_baths</th>\n",
       "      <th>No_of_toilets</th>\n",
       "    </tr>\n",
       "  </thead>\n",
       "  <tbody>\n",
       "    <tr>\n",
       "      <th>count</th>\n",
       "      <td>31</td>\n",
       "      <td>31</td>\n",
       "      <td>31</td>\n",
       "      <td>31</td>\n",
       "      <td>31</td>\n",
       "      <td>31</td>\n",
       "      <td>31</td>\n",
       "      <td>31</td>\n",
       "    </tr>\n",
       "    <tr>\n",
       "      <th>unique</th>\n",
       "      <td>7</td>\n",
       "      <td>20</td>\n",
       "      <td>25</td>\n",
       "      <td>12</td>\n",
       "      <td>28</td>\n",
       "      <td>6</td>\n",
       "      <td>6</td>\n",
       "      <td>6</td>\n",
       "    </tr>\n",
       "    <tr>\n",
       "      <th>top</th>\n",
       "      <td>LAND FOR SALE</td>\n",
       "      <td>Land</td>\n",
       "      <td>Ibeju Lekki Lagos</td>\n",
       "      <td></td>\n",
       "      <td>03 Feb 2022</td>\n",
       "      <td>0</td>\n",
       "      <td>0</td>\n",
       "      <td>0</td>\n",
       "    </tr>\n",
       "    <tr>\n",
       "      <th>freq</th>\n",
       "      <td>24</td>\n",
       "      <td>11</td>\n",
       "      <td>3</td>\n",
       "      <td>12</td>\n",
       "      <td>3</td>\n",
       "      <td>22</td>\n",
       "      <td>22</td>\n",
       "      <td>22</td>\n",
       "    </tr>\n",
       "  </tbody>\n",
       "</table>\n",
       "</div>"
      ],
      "text/plain": [
       "       Nature_of_property Type_of_property  Property_Location Date_updated  \\\n",
       "count                  31               31                 31           31   \n",
       "unique                  7               20                 25           12   \n",
       "top         LAND FOR SALE             Land  Ibeju Lekki Lagos                \n",
       "freq                   24               11                  3           12   \n",
       "\n",
       "           Date_added No_of_beds No_of_baths No_of_toilets  \n",
       "count              31         31          31            31  \n",
       "unique             28          6           6             6  \n",
       "top      03 Feb 2022          0           0             0   \n",
       "freq                3         22          22            22  "
      ]
     },
     "execution_count": 16,
     "metadata": {},
     "output_type": "execute_result"
    }
   ],
   "source": [
    "# Describing the data\n",
    "\n",
    "property_df4.describe()"
   ]
  },
  {
   "cell_type": "code",
   "execution_count": 17,
   "id": "202697c7",
   "metadata": {},
   "outputs": [
    {
     "data": {
      "text/plain": [
       "Nature_of_property     7\n",
       "Type_of_property      20\n",
       "Property_Location     25\n",
       "Date_updated          12\n",
       "Date_added            28\n",
       "No_of_beds             6\n",
       "No_of_baths            6\n",
       "No_of_toilets          6\n",
       "dtype: int64"
      ]
     },
     "execution_count": 17,
     "metadata": {},
     "output_type": "execute_result"
    }
   ],
   "source": [
    "# Identifying unique values in each column of the data\n",
    "\n",
    "property_df4.nunique()"
   ]
  },
  {
   "cell_type": "code",
   "execution_count": null,
   "id": "0cc9d3ac",
   "metadata": {},
   "outputs": [],
   "source": [
    "# Since I indentified the columns 'No_of_beds','No_of_baths' and 'No_of_toilets' are object type, \n",
    "# I decide to change them to int type \n",
    "\n",
    "convert_dict = {\n",
    "    'No_of_beds':int,\n",
    "    'No_of_baths':int,\n",
    "    'No_of_toilets':int\n",
    "    }\n",
    "\n",
    "property_df4[['No_of_beds','No_of_baths','No_of_toilets']] = property_df4[['No_of_beds','No_of_baths','No_of_toilets']].astype(convert_dict)\n",
    "\n",
    "# I tried the format above, I got an error."
   ]
  },
  {
   "cell_type": "code",
   "execution_count": null,
   "id": "45121735",
   "metadata": {},
   "outputs": [],
   "source": [
    "# I tried another format below, still same error.\n",
    "\n",
    "property_df2['No_of_beds'] = property_df2['No_of_beds'].astype('int64')"
   ]
  },
  {
   "cell_type": "markdown",
   "id": "f0e5f1bf",
   "metadata": {},
   "source": [
    "Since I tried the various methods of conversion, it was resulting to errors. I decided to coerce the errors."
   ]
  },
  {
   "cell_type": "code",
   "execution_count": 18,
   "id": "e253ce7a",
   "metadata": {},
   "outputs": [
    {
     "name": "stderr",
     "output_type": "stream",
     "text": [
      "C:\\Users\\CHIDIEBERE NNAMANI\\AppData\\Local\\Temp\\ipykernel_2056\\3124514937.py:1: SettingWithCopyWarning: \n",
      "A value is trying to be set on a copy of a slice from a DataFrame.\n",
      "Try using .loc[row_indexer,col_indexer] = value instead\n",
      "\n",
      "See the caveats in the documentation: https://pandas.pydata.org/pandas-docs/stable/user_guide/indexing.html#returning-a-view-versus-a-copy\n",
      "  property_df4['No_of_beds'] = pd.to_numeric(property_df4['No_of_beds'], errors='coerce')\n",
      "C:\\Users\\CHIDIEBERE NNAMANI\\AppData\\Local\\Temp\\ipykernel_2056\\3124514937.py:2: SettingWithCopyWarning: \n",
      "A value is trying to be set on a copy of a slice from a DataFrame.\n",
      "Try using .loc[row_indexer,col_indexer] = value instead\n",
      "\n",
      "See the caveats in the documentation: https://pandas.pydata.org/pandas-docs/stable/user_guide/indexing.html#returning-a-view-versus-a-copy\n",
      "  property_df4['No_of_baths'] = pd.to_numeric(property_df4['No_of_baths'], errors='coerce')\n",
      "C:\\Users\\CHIDIEBERE NNAMANI\\AppData\\Local\\Temp\\ipykernel_2056\\3124514937.py:3: SettingWithCopyWarning: \n",
      "A value is trying to be set on a copy of a slice from a DataFrame.\n",
      "Try using .loc[row_indexer,col_indexer] = value instead\n",
      "\n",
      "See the caveats in the documentation: https://pandas.pydata.org/pandas-docs/stable/user_guide/indexing.html#returning-a-view-versus-a-copy\n",
      "  property_df4['No_of_toilets'] = pd.to_numeric(property_df4['No_of_toilets'], errors='coerce')\n"
     ]
    }
   ],
   "source": [
    "property_df4['No_of_beds'] = pd.to_numeric(property_df4['No_of_beds'], errors='coerce')\n",
    "property_df4['No_of_baths'] = pd.to_numeric(property_df4['No_of_baths'], errors='coerce')\n",
    "property_df4['No_of_toilets'] = pd.to_numeric(property_df4['No_of_toilets'], errors='coerce')"
   ]
  },
  {
   "cell_type": "code",
   "execution_count": 19,
   "id": "8508ef00",
   "metadata": {},
   "outputs": [
    {
     "name": "stdout",
     "output_type": "stream",
     "text": [
      "<class 'pandas.core.frame.DataFrame'>\n",
      "Int64Index: 31 entries, 0 to 485\n",
      "Data columns (total 8 columns):\n",
      " #   Column              Non-Null Count  Dtype  \n",
      "---  ------              --------------  -----  \n",
      " 0   Nature_of_property  31 non-null     object \n",
      " 1   Type_of_property    31 non-null     object \n",
      " 2   Property_Location   31 non-null     object \n",
      " 3   Date_updated        31 non-null     object \n",
      " 4   Date_added          31 non-null     object \n",
      " 5   No_of_beds          27 non-null     float64\n",
      " 6   No_of_baths         27 non-null     float64\n",
      " 7   No_of_toilets       27 non-null     float64\n",
      "dtypes: float64(3), object(5)\n",
      "memory usage: 2.2+ KB\n"
     ]
    }
   ],
   "source": [
    "# Confirming the changed datatypes of the columns\n",
    "\n",
    "property_df4.info()"
   ]
  },
  {
   "cell_type": "markdown",
   "id": "636ada73",
   "metadata": {},
   "source": [
    "# Data Visualization\n",
    "\n",
    "I import python libraries for visualizng the data"
   ]
  },
  {
   "cell_type": "code",
   "execution_count": 20,
   "id": "dd97d5ec",
   "metadata": {},
   "outputs": [],
   "source": [
    "import matplotlib.pyplot as plt\n",
    "import seaborn as sns"
   ]
  },
  {
   "cell_type": "markdown",
   "id": "40daa11d",
   "metadata": {},
   "source": [
    "## How many properties were added?\n",
    "\n",
    "To answer the question, I plotted the count of the properties against the date added."
   ]
  },
  {
   "cell_type": "markdown",
   "id": "fe08ffb2",
   "metadata": {},
   "source": [
    "Before that, I changed the data type of the columns 'Date_added' and 'Date_updated' into datetime."
   ]
  },
  {
   "cell_type": "code",
   "execution_count": 21,
   "id": "59f2458b",
   "metadata": {},
   "outputs": [
    {
     "name": "stderr",
     "output_type": "stream",
     "text": [
      "C:\\Users\\CHIDIEBERE NNAMANI\\AppData\\Local\\Temp\\ipykernel_2056\\1865038769.py:1: SettingWithCopyWarning: \n",
      "A value is trying to be set on a copy of a slice from a DataFrame.\n",
      "Try using .loc[row_indexer,col_indexer] = value instead\n",
      "\n",
      "See the caveats in the documentation: https://pandas.pydata.org/pandas-docs/stable/user_guide/indexing.html#returning-a-view-versus-a-copy\n",
      "  property_df4['Date_added'] = pd.to_datetime(property_df4['Date_added'], errors='coerce')\n",
      "C:\\Users\\CHIDIEBERE NNAMANI\\AppData\\Local\\Temp\\ipykernel_2056\\1865038769.py:3: SettingWithCopyWarning: \n",
      "A value is trying to be set on a copy of a slice from a DataFrame.\n",
      "Try using .loc[row_indexer,col_indexer] = value instead\n",
      "\n",
      "See the caveats in the documentation: https://pandas.pydata.org/pandas-docs/stable/user_guide/indexing.html#returning-a-view-versus-a-copy\n",
      "  property_df4['Date_updated'] = pd.to_datetime(property_df4['Date_updated'], errors='coerce')\n"
     ]
    }
   ],
   "source": [
    "property_df4['Date_added'] = pd.to_datetime(property_df4['Date_added'], errors='coerce')\n",
    "\n",
    "property_df4['Date_updated'] = pd.to_datetime(property_df4['Date_updated'], errors='coerce')"
   ]
  },
  {
   "cell_type": "code",
   "execution_count": 22,
   "id": "dea022f1",
   "metadata": {},
   "outputs": [
    {
     "data": {
      "text/plain": [
       "Nature_of_property\n",
       "10 BEDROOM COMMERCIAL PROPERTY FOR SALE     1\n",
       "3 BEDROOM FLAT / APARTMENT FOR SALE         2\n",
       "4 BEDROOM HOUSE FOR SALE                    1\n",
       "6 BEDROOM HOUSE FOR SALE                    1\n",
       "COMMERCIAL PROPERTY FOR SALE                1\n",
       "HOUSE FOR SALE                              1\n",
       "LAND FOR SALE                              24\n",
       "Name: Date_added, dtype: int64"
      ]
     },
     "execution_count": 22,
     "metadata": {},
     "output_type": "execute_result"
    }
   ],
   "source": [
    "Date_property_added = property_df4.groupby(['Nature_of_property'])['Date_added'].count()\n",
    "\n",
    "Date_property_added"
   ]
  },
  {
   "cell_type": "code",
   "execution_count": 23,
   "id": "164a8c42",
   "metadata": {},
   "outputs": [
    {
     "data": {
      "image/png": "[encoded data removed]",
      "text/plain": [
       "<Figure size 864x432 with 1 Axes>"
      ]
     },
     "metadata": {
      "needs_background": "light"
     },
     "output_type": "display_data"
    },
    {
     "data": {
      "text/plain": [
       "<Figure size 432x288 with 0 Axes>"
      ]
     },
     "metadata": {},
     "output_type": "display_data"
    }
   ],
   "source": [
    "fig, ax = plt.subplots(figsize= (12,6))\n",
    "g = sns.lineplot(data = Date_property_added, ax = ax)\n",
    "g.set(title = \"Number of properties added\",\n",
    "     xlabel = \"Properties\", \n",
    "     ylabel = \"Number of Properties\")\n",
    "plt.xticks(rotation = 90)\n",
    "plt.show()\n",
    "plt.clf()"
   ]
  },
  {
   "cell_type": "markdown",
   "id": "786244d2",
   "metadata": {},
   "source": [
    "## How many properties were later updated?"
   ]
  },
  {
   "cell_type": "markdown",
   "id": "8d18cb9b",
   "metadata": {},
   "source": [
    "To answer the question, I plotted the count of the properties against the date updated."
   ]
  },
  {
   "cell_type": "code",
   "execution_count": 24,
   "id": "7b154a2a",
   "metadata": {},
   "outputs": [
    {
     "data": {
      "text/plain": [
       "Nature_of_property\n",
       "10 BEDROOM COMMERCIAL PROPERTY FOR SALE     0\n",
       "3 BEDROOM FLAT / APARTMENT FOR SALE         2\n",
       "4 BEDROOM HOUSE FOR SALE                    1\n",
       "6 BEDROOM HOUSE FOR SALE                    0\n",
       "COMMERCIAL PROPERTY FOR SALE                1\n",
       "HOUSE FOR SALE                              1\n",
       "LAND FOR SALE                              14\n",
       "Name: Date_updated, dtype: int64"
      ]
     },
     "execution_count": 24,
     "metadata": {},
     "output_type": "execute_result"
    }
   ],
   "source": [
    "Date_property_updated = property_df4.groupby(['Nature_of_property'])['Date_updated'].count()\n",
    "\n",
    "Date_property_updated"
   ]
  },
  {
   "cell_type": "code",
   "execution_count": 25,
   "id": "01129031",
   "metadata": {
    "scrolled": false
   },
   "outputs": [
    {
     "data": {
      "image/png": "[encoded data removed]",
      "text/plain": [
       "<Figure size 864x432 with 1 Axes>"
      ]
     },
     "metadata": {
      "needs_background": "light"
     },
     "output_type": "display_data"
    },
    {
     "data": {
      "text/plain": [
       "<Figure size 432x288 with 0 Axes>"
      ]
     },
     "metadata": {},
     "output_type": "display_data"
    }
   ],
   "source": [
    "fig, ax = plt.subplots(figsize= (12,6))\n",
    "g = sns.lineplot(data = Date_property_updated, ax = ax)\n",
    "g.set(title = \"Number of properties updated\",\n",
    "     xlabel = \"Properties\", \n",
    "     ylabel = \"Number of Properties\")\n",
    "plt.xticks(rotation = 90)\n",
    "plt.show()\n",
    "plt.clf()"
   ]
  },
  {
   "cell_type": "markdown",
   "id": "c0f7e66d",
   "metadata": {},
   "source": [
    "## Analysis of properties by their location\n",
    "\n",
    "1. Which state has the highest number of properties in Nigeria?\n",
    "2. In the predominant state, which specific location has the highest number of properties?\n",
    "3. Which type of property has the highest number per state?"
   ]
  },
  {
   "cell_type": "markdown",
   "id": "0e4df681",
   "metadata": {},
   "source": [
    "# 1."
   ]
  },
  {
   "cell_type": "code",
   "execution_count": 26,
   "id": "b1699ff5",
   "metadata": {},
   "outputs": [
    {
     "name": "stderr",
     "output_type": "stream",
     "text": [
      "C:\\Users\\CHIDIEBERE NNAMANI\\AppData\\Local\\Temp\\ipykernel_2056\\3825024795.py:10: SettingWithCopyWarning: \n",
      "A value is trying to be set on a copy of a slice from a DataFrame.\n",
      "Try using .loc[row_indexer,col_indexer] = value instead\n",
      "\n",
      "See the caveats in the documentation: https://pandas.pydata.org/pandas-docs/stable/user_guide/indexing.html#returning-a-view-versus-a-copy\n",
      "  property_df4['State_Property_Located'] = State_Property_Located\n"
     ]
    }
   ],
   "source": [
    "# Creating list of states properties are located\n",
    "State_Property_Located = []\n",
    "for i in property_df4['Property_Location']:\n",
    "    ans = i.split(\" \")[-1]\n",
    "    #print(ans)\n",
    "    \n",
    "    State_Property_Located.append(ans)\n",
    "    \n",
    "# I convert the list into a new column 'States_property_located' in the data\n",
    "property_df4['State_Property_Located'] = State_Property_Located"
   ]
  },
  {
   "cell_type": "code",
   "execution_count": 27,
   "id": "5f08d401",
   "metadata": {},
   "outputs": [
    {
     "data": {
      "text/plain": [
       "<AxesSubplot:title={'center':'Property location by States'}>"
      ]
     },
     "execution_count": 27,
     "metadata": {},
     "output_type": "execute_result"
    },
    {
     "data": {
      "image/png": "[encoded data removed]",
      "text/plain": [
       "<Figure size 1008x360 with 1 Axes>"
      ]
     },
     "metadata": {
      "needs_background": "light"
     },
     "output_type": "display_data"
    }
   ],
   "source": [
    "plt.figure(figsize = (14,5))\n",
    "plt.title('Property location by States')\n",
    "property_df4['State_Property_Located'].value_counts().sort_values().plot.barh(color = 'blue')"
   ]
  },
  {
   "cell_type": "markdown",
   "id": "7205d6b6",
   "metadata": {},
   "source": [
    "# 2."
   ]
  },
  {
   "cell_type": "code",
   "execution_count": 28,
   "id": "176cd643",
   "metadata": {},
   "outputs": [
    {
     "name": "stderr",
     "output_type": "stream",
     "text": [
      "C:\\Users\\CHIDIEBERE NNAMANI\\AppData\\Local\\Temp\\ipykernel_2056\\997763077.py:15: SettingWithCopyWarning: \n",
      "A value is trying to be set on a copy of a slice from a DataFrame.\n",
      "Try using .loc[row_indexer,col_indexer] = value instead\n",
      "\n",
      "See the caveats in the documentation: https://pandas.pydata.org/pandas-docs/stable/user_guide/indexing.html#returning-a-view-versus-a-copy\n",
      "  property_df4['Property_location_in_pred_state'] = Property_location_in_pred_state\n",
      "C:\\Users\\CHIDIEBERE NNAMANI\\AppData\\Local\\Temp\\ipykernel_2056\\997763077.py:37: SettingWithCopyWarning: \n",
      "A value is trying to be set on a copy of a slice from a DataFrame.\n",
      "Try using .loc[row_indexer,col_indexer] = value instead\n",
      "\n",
      "See the caveats in the documentation: https://pandas.pydata.org/pandas-docs/stable/user_guide/indexing.html#returning-a-view-versus-a-copy\n",
      "  property_df4['Prop_location_in_Lagos'] = Prop_location_in_pred_state\n"
     ]
    }
   ],
   "source": [
    "# I create list of locations properties located in the predominant state\n",
    "\n",
    "Property_location_in_pred_state = []\n",
    "for i in property_df4['Property_Location']:\n",
    "    if 'Lagos' in i:\n",
    "        ans = i.rsplit('Lagos')[0]\n",
    "    else:\n",
    "        ans = None\n",
    "    #print(ans)\n",
    "    Property_location_in_pred_state.append(ans)\n",
    "\n",
    "    \n",
    "# I convert the list into a new column 'Property_location_in_pred_state'\n",
    "\n",
    "property_df4['Property_location_in_pred_state'] = Property_location_in_pred_state\n",
    "\n",
    "# I create another list with specific locations of properties in the predominant state, which is Lagos\n",
    "\n",
    "Prop_location_in_pred_state = []\n",
    "for i in property_df4['Property_location_in_pred_state']:\n",
    "    if 'Lekki' in str(i):\n",
    "        ans = 'Lekki'\n",
    "    elif 'Ikoyi' in str(i):\n",
    "        ans = 'Ikoyi'\n",
    "    elif 'Victoria Island' in str(i):\n",
    "        ans = 'Victoria Island'\n",
    "    elif 'Amuwo Odofin' in str(i):\n",
    "        ans = 'Amuwo Odofin'\n",
    "    elif 'Apapa' in str(i):\n",
    "        ans = 'Apapa'\n",
    "    else:\n",
    "        ans = i\n",
    "    Prop_location_in_pred_state.append(ans)\n",
    "    \n",
    "# I convert the list into a new column 'Prop_location_in_Lagos'\n",
    "\n",
    "property_df4['Prop_location_in_Lagos'] = Prop_location_in_pred_state"
   ]
  },
  {
   "cell_type": "code",
   "execution_count": 29,
   "id": "fc9592c9",
   "metadata": {},
   "outputs": [
    {
     "data": {
      "text/plain": [
       "0                  Lekki\n",
       "1                  Lekki\n",
       "2                  Lekki\n",
       "3                  Lekki\n",
       "4                  Lekki\n",
       "5                  Lekki\n",
       "6                  Lekki\n",
       "7                  Ikoyi\n",
       "8        Victoria Island\n",
       "9         Ajangbadi Ojo \n",
       "10                 Lekki\n",
       "21                 Lekki\n",
       "22                  None\n",
       "24          Ogudu Ogudu \n",
       "25                  None\n",
       "29                  None\n",
       "39                 Ikoyi\n",
       "40                  Epe \n",
       "42            Sangotedo \n",
       "43                 Lekki\n",
       "44                 Lekki\n",
       "45                 Lekki\n",
       "47                 Apapa\n",
       "64     Bogije Sangotedo \n",
       "82           Abijo Ajah \n",
       "84                 Lekki\n",
       "198         Amuwo Odofin\n",
       "241                Lekki\n",
       "287                Apapa\n",
       "399                Lekki\n",
       "485          Abijo Ajah \n",
       "Name: Prop_location_in_Lagos, dtype: object"
      ]
     },
     "execution_count": 29,
     "metadata": {},
     "output_type": "execute_result"
    }
   ],
   "source": [
    "property_df4['Prop_location_in_Lagos']"
   ]
  },
  {
   "cell_type": "code",
   "execution_count": 30,
   "id": "a81b101b",
   "metadata": {},
   "outputs": [
    {
     "data": {
      "text/plain": [
       "<AxesSubplot:title={'center':'Property location in Lagos'}>"
      ]
     },
     "execution_count": 30,
     "metadata": {},
     "output_type": "execute_result"
    },
    {
     "data": {
      "image/png": "[encoded data removed]",
      "text/plain": [
       "<Figure size 1008x360 with 1 Axes>"
      ]
     },
     "metadata": {
      "needs_background": "light"
     },
     "output_type": "display_data"
    }
   ],
   "source": [
    "# Count of properties in different parts of Lagos\n",
    "\n",
    "#%matplotlib notebook\n",
    "plt.figure(figsize = (14,5))\n",
    "plt.title('Property location in Lagos')\n",
    "property_df4['Prop_location_in_Lagos'].value_counts().sort_values().plot.barh(color = 'red')"
   ]
  },
  {
   "cell_type": "markdown",
   "id": "3077fcbb",
   "metadata": {},
   "source": [
    "# 3"
   ]
  },
  {
   "cell_type": "code",
   "execution_count": 31,
   "id": "d04f39b3",
   "metadata": {},
   "outputs": [
    {
     "name": "stderr",
     "output_type": "stream",
     "text": [
      "C:\\Users\\CHIDIEBERE NNAMANI\\AppData\\Local\\Temp\\ipykernel_2056\\3985479348.py:21: SettingWithCopyWarning: \n",
      "A value is trying to be set on a copy of a slice from a DataFrame.\n",
      "Try using .loc[row_indexer,col_indexer] = value instead\n",
      "\n",
      "See the caveats in the documentation: https://pandas.pydata.org/pandas-docs/stable/user_guide/indexing.html#returning-a-view-versus-a-copy\n",
      "  property_df4['Property_Type'] = Property_Type\n"
     ]
    }
   ],
   "source": [
    "# I create a new list with the values on the column 'Type_of_property'\n",
    "\n",
    "Property_Type = []\n",
    "\n",
    "for i in property_df4['Type_of_property']:\n",
    "    if 'Land' in i:\n",
    "        ans = 'Land'\n",
    "    elif 'School' in i:\n",
    "        ans = i.split(\" \")[2]\n",
    "    elif 'Shop' in i:\n",
    "        ans = 'Shop'\n",
    "    elif 'Bedroom' in i:\n",
    "        ans = \"House\"\n",
    "    elif 'Beach' in i:\n",
    "        ans = \"House\"\n",
    "    \n",
    "    Property_Type.append(ans)\n",
    "    \n",
    "# I convert the list into a new column 'Property_Type' \n",
    "\n",
    "property_df4['Property_Type'] = Property_Type"
   ]
  },
  {
   "cell_type": "code",
   "execution_count": 32,
   "id": "1bd24699",
   "metadata": {},
   "outputs": [
    {
     "data": {
      "text/plain": [
       "State_Property_Located  Property_Type\n",
       "Abuja                   School            1\n",
       "Lagos                   House             6\n",
       "                        Land             21\n",
       "                        Shop              1\n",
       "Oyo                     Land              2\n",
       "Name: Date_added, dtype: int64"
      ]
     },
     "execution_count": 32,
     "metadata": {},
     "output_type": "execute_result"
    }
   ],
   "source": [
    "PropertyType_State2 = property_df4.groupby(['State_Property_Located','Property_Type'])['Date_added'].count()\n",
    "\n",
    "PropertyType_State2"
   ]
  },
  {
   "cell_type": "code",
   "execution_count": 46,
   "id": "20c25148",
   "metadata": {
    "scrolled": false
   },
   "outputs": [
    {
     "data": {
      "application/javascript": [
       "/* Put everything inside the global mpl namespace */\n",
       "/* global mpl */\n",
       "window.mpl = {};\n",
       "\n",
       "mpl.get_websocket_type = function () {\n",
       "    if (typeof WebSocket !== 'undefined') {\n",
       "        return WebSocket;\n",
       "    } else if (typeof MozWebSocket !== 'undefined') {\n",
       "        return MozWebSocket;\n",
       "    } else {\n",
       "        alert(\n",
       "            'Your browser does not have WebSocket support. ' +\n",
       "                'Please try Chrome, Safari or Firefox ≥ 6. ' +\n",
       "                'Firefox 4 and 5 are also supported but you ' +\n",
       "                'have to enable WebSockets in about:config.'\n",
       "        );\n",
       "    }\n",
       "};\n",
       "\n",
       "mpl.figure = function (figure_id, websocket, ondownload, parent_element) {\n",
       "    this.id = figure_id;\n",
       "\n",
       "    this.ws = websocket;\n",
       "\n",
       "    this.supports_binary = this.ws.binaryType !== undefined;\n",
       "\n",
       "    if (!this.supports_binary) {\n",
       "        var warnings = document.getElementById('mpl-warnings');\n",
       "        if (warnings) {\n",
       "            warnings.style.display = 'block';\n",
       "            warnings.textContent =\n",
       "                'This browser does not support binary websocket messages. ' +\n",
       "                'Performance may be slow.';\n",
       "        }\n",
       "    }\n",
       "\n",
       "    this.imageObj = new Image();\n",
       "\n",
       "    this.context = undefined;\n",
       "    this.message = undefined;\n",
       "    this.canvas = undefined;\n",
       "    this.rubberband_canvas = undefined;\n",
       "    this.rubberband_context = undefined;\n",
       "    this.format_dropdown = undefined;\n",
       "\n",
       "    this.image_mode = 'full';\n",
       "\n",
       "    this.root = document.createElement('div');\n",
       "    this.root.setAttribute('style', 'display: inline-block');\n",
       "    this._root_extra_style(this.root);\n",
       "\n",
       "    parent_element.appendChild(this.root);\n",
       "\n",
       "    this._init_header(this);\n",
       "    this._init_canvas(this);\n",
       "    this._init_toolbar(this);\n",
       "\n",
       "    var fig = this;\n",
       "\n",
       "    this.waiting = false;\n",
       "\n",
       "    this.ws.onopen = function () {\n",
       "        fig.send_message('supports_binary', { value: fig.supports_binary });\n",
       "        fig.send_message('send_image_mode', {});\n",
       "        if (fig.ratio !== 1) {\n",
       "            fig.send_message('set_device_pixel_ratio', {\n",
       "                device_pixel_ratio: fig.ratio,\n",
       "            });\n",
       "        }\n",
       "        fig.send_message('refresh', {});\n",
       "    };\n",
       "\n",
       "    this.imageObj.onload = function () {\n",
       "        if (fig.image_mode === 'full') {\n",
       "            // Full images could contain transparency (where diff images\n",
       "            // almost always do), so we need to clear the canvas so that\n",
       "            // there is no ghosting.\n",
       "            fig.context.clearRect(0, 0, fig.canvas.width, fig.canvas.height);\n",
       "        }\n",
       "        fig.context.drawImage(fig.imageObj, 0, 0);\n",
       "    };\n",
       "\n",
       "    this.imageObj.onunload = function () {\n",
       "        fig.ws.close();\n",
       "    };\n",
       "\n",
       "    this.ws.onmessage = this._make_on_message_function(this);\n",
       "\n",
       "    this.ondownload = ondownload;\n",
       "};\n",
       "\n",
       "mpl.figure.prototype._init_header = function () {\n",
       "    var titlebar = document.createElement('div');\n",
       "    titlebar.classList =\n",
       "        'ui-dialog-titlebar ui-widget-header ui-corner-all ui-helper-clearfix';\n",
       "    var titletext = document.createElement('div');\n",
       "    titletext.classList = 'ui-dialog-title';\n",
       "    titletext.setAttribute(\n",
       "        'style',\n",
       "        'width: 100%; text-align: center; padding: 3px;'\n",
       "    );\n",
       "    titlebar.appendChild(titletext);\n",
       "    this.root.appendChild(titlebar);\n",
       "    this.header = titletext;\n",
       "};\n",
       "\n",
       "mpl.figure.prototype._canvas_extra_style = function (_canvas_div) {};\n",
       "\n",
       "mpl.figure.prototype._root_extra_style = function (_canvas_div) {};\n",
       "\n",
       "mpl.figure.prototype._init_canvas = function () {\n",
       "    var fig = this;\n",
       "\n",
       "    var canvas_div = (this.canvas_div = document.createElement('div'));\n",
       "    canvas_div.setAttribute(\n",
       "        'style',\n",
       "        'border: 1px solid #ddd;' +\n",
       "            'box-sizing: content-box;' +\n",
       "            'clear: both;' +\n",
       "            'min-height: 1px;' +\n",
       "            'min-width: 1px;' +\n",
       "            'outline: 0;' +\n",
       "            'overflow: hidden;' +\n",
       "            'position: relative;' +\n",
       "            'resize: both;'\n",
       "    );\n",
       "\n",
       "    function on_keyboard_event_closure(name) {\n",
       "        return function (event) {\n",
       "            return fig.key_event(event, name);\n",
       "        };\n",
       "    }\n",
       "\n",
       "    canvas_div.addEventListener(\n",
       "        'keydown',\n",
       "        on_keyboard_event_closure('key_press')\n",
       "    );\n",
       "    canvas_div.addEventListener(\n",
       "        'keyup',\n",
       "        on_keyboard_event_closure('key_release')\n",
       "    );\n",
       "\n",
       "    this._canvas_extra_style(canvas_div);\n",
       "    this.root.appendChild(canvas_div);\n",
       "\n",
       "    var canvas = (this.canvas = document.createElement('canvas'));\n",
       "    canvas.classList.add('mpl-canvas');\n",
       "    canvas.setAttribute('style', 'box-sizing: content-box;');\n",
       "\n",
       "    this.context = canvas.getContext('2d');\n",
       "\n",
       "    var backingStore =\n",
       "        this.context.backingStorePixelRatio ||\n",
       "        this.context.webkitBackingStorePixelRatio ||\n",
       "        this.context.mozBackingStorePixelRatio ||\n",
       "        this.context.msBackingStorePixelRatio ||\n",
       "        this.context.oBackingStorePixelRatio ||\n",
       "        this.context.backingStorePixelRatio ||\n",
       "        1;\n",
       "\n",
       "    this.ratio = (window.devicePixelRatio || 1) / backingStore;\n",
       "\n",
       "    var rubberband_canvas = (this.rubberband_canvas = document.createElement(\n",
       "        'canvas'\n",
       "    ));\n",
       "    rubberband_canvas.setAttribute(\n",
       "        'style',\n",
       "        'box-sizing: content-box; position: absolute; left: 0; top: 0; z-index: 1;'\n",
       "    );\n",
       "\n",
       "    // Apply a ponyfill if ResizeObserver is not implemented by browser.\n",
       "    if (this.ResizeObserver === undefined) {\n",
       "        if (window.ResizeObserver !== undefined) {\n",
       "            this.ResizeObserver = window.ResizeObserver;\n",
       "        } else {\n",
       "            var obs = _JSXTOOLS_RESIZE_OBSERVER({});\n",
       "            this.ResizeObserver = obs.ResizeObserver;\n",
       "        }\n",
       "    }\n",
       "\n",
       "    this.resizeObserverInstance = new this.ResizeObserver(function (entries) {\n",
       "        var nentries = entries.length;\n",
       "        for (var i = 0; i < nentries; i++) {\n",
       "            var entry = entries[i];\n",
       "            var width, height;\n",
       "            if (entry.contentBoxSize) {\n",
       "                if (entry.contentBoxSize instanceof Array) {\n",
       "                    // Chrome 84 implements new version of spec.\n",
       "                    width = entry.contentBoxSize[0].inlineSize;\n",
       "                    height = entry.contentBoxSize[0].blockSize;\n",
       "                } else {\n",
       "                    // Firefox implements old version of spec.\n",
       "                    width = entry.contentBoxSize.inlineSize;\n",
       "                    height = entry.contentBoxSize.blockSize;\n",
       "                }\n",
       "            } else {\n",
       "                // Chrome <84 implements even older version of spec.\n",
       "                width = entry.contentRect.width;\n",
       "                height = entry.contentRect.height;\n",
       "            }\n",
       "\n",
       "            // Keep the size of the canvas and rubber band canvas in sync with\n",
       "            // the canvas container.\n",
       "            if (entry.devicePixelContentBoxSize) {\n",
       "                // Chrome 84 implements new version of spec.\n",
       "                canvas.setAttribute(\n",
       "                    'width',\n",
       "                    entry.devicePixelContentBoxSize[0].inlineSize\n",
       "                );\n",
       "                canvas.setAttribute(\n",
       "                    'height',\n",
       "                    entry.devicePixelContentBoxSize[0].blockSize\n",
       "                );\n",
       "            } else {\n",
       "                canvas.setAttribute('width', width * fig.ratio);\n",
       "                canvas.setAttribute('height', height * fig.ratio);\n",
       "            }\n",
       "            canvas.setAttribute(\n",
       "                'style',\n",
       "                'width: ' + width + 'px; height: ' + height + 'px;'\n",
       "            );\n",
       "\n",
       "            rubberband_canvas.setAttribute('width', width);\n",
       "            rubberband_canvas.setAttribute('height', height);\n",
       "\n",
       "            // And update the size in Python. We ignore the initial 0/0 size\n",
       "            // that occurs as the element is placed into the DOM, which should\n",
       "            // otherwise not happen due to the minimum size styling.\n",
       "            if (fig.ws.readyState == 1 && width != 0 && height != 0) {\n",
       "                fig.request_resize(width, height);\n",
       "            }\n",
       "        }\n",
       "    });\n",
       "    this.resizeObserverInstance.observe(canvas_div);\n",
       "\n",
       "    function on_mouse_event_closure(name) {\n",
       "        return function (event) {\n",
       "            return fig.mouse_event(event, name);\n",
       "        };\n",
       "    }\n",
       "\n",
       "    rubberband_canvas.addEventListener(\n",
       "        'mousedown',\n",
       "        on_mouse_event_closure('button_press')\n",
       "    );\n",
       "    rubberband_canvas.addEventListener(\n",
       "        'mouseup',\n",
       "        on_mouse_event_closure('button_release')\n",
       "    );\n",
       "    rubberband_canvas.addEventListener(\n",
       "        'dblclick',\n",
       "        on_mouse_event_closure('dblclick')\n",
       "    );\n",
       "    // Throttle sequential mouse events to 1 every 20ms.\n",
       "    rubberband_canvas.addEventListener(\n",
       "        'mousemove',\n",
       "        on_mouse_event_closure('motion_notify')\n",
       "    );\n",
       "\n",
       "    rubberband_canvas.addEventListener(\n",
       "        'mouseenter',\n",
       "        on_mouse_event_closure('figure_enter')\n",
       "    );\n",
       "    rubberband_canvas.addEventListener(\n",
       "        'mouseleave',\n",
       "        on_mouse_event_closure('figure_leave')\n",
       "    );\n",
       "\n",
       "    canvas_div.addEventListener('wheel', function (event) {\n",
       "        if (event.deltaY < 0) {\n",
       "            event.step = 1;\n",
       "        } else {\n",
       "            event.step = -1;\n",
       "        }\n",
       "        on_mouse_event_closure('scroll')(event);\n",
       "    });\n",
       "\n",
       "    canvas_div.appendChild(canvas);\n",
       "    canvas_div.appendChild(rubberband_canvas);\n",
       "\n",
       "    this.rubberband_context = rubberband_canvas.getContext('2d');\n",
       "    this.rubberband_context.strokeStyle = '#000000';\n",
       "\n",
       "    this._resize_canvas = function (width, height, forward) {\n",
       "        if (forward) {\n",
       "            canvas_div.style.width = width + 'px';\n",
       "            canvas_div.style.height = height + 'px';\n",
       "        }\n",
       "    };\n",
       "\n",
       "    // Disable right mouse context menu.\n",
       "    this.rubberband_canvas.addEventListener('contextmenu', function (_e) {\n",
       "        event.preventDefault();\n",
       "        return false;\n",
       "    });\n",
       "\n",
       "    function set_focus() {\n",
       "        canvas.focus();\n",
       "        canvas_div.focus();\n",
       "    }\n",
       "\n",
       "    window.setTimeout(set_focus, 100);\n",
       "};\n",
       "\n",
       "mpl.figure.prototype._init_toolbar = function () {\n",
       "    var fig = this;\n",
       "\n",
       "    var toolbar = document.createElement('div');\n",
       "    toolbar.classList = 'mpl-toolbar';\n",
       "    this.root.appendChild(toolbar);\n",
       "\n",
       "    function on_click_closure(name) {\n",
       "        return function (_event) {\n",
       "            return fig.toolbar_button_onclick(name);\n",
       "        };\n",
       "    }\n",
       "\n",
       "    function on_mouseover_closure(tooltip) {\n",
       "        return function (event) {\n",
       "            if (!event.currentTarget.disabled) {\n",
       "                return fig.toolbar_button_onmouseover(tooltip);\n",
       "            }\n",
       "        };\n",
       "    }\n",
       "\n",
       "    fig.buttons = {};\n",
       "    var buttonGroup = document.createElement('div');\n",
       "    buttonGroup.classList = 'mpl-button-group';\n",
       "    for (var toolbar_ind in mpl.toolbar_items) {\n",
       "        var name = mpl.toolbar_items[toolbar_ind][0];\n",
       "        var tooltip = mpl.toolbar_items[toolbar_ind][1];\n",
       "        var image = mpl.toolbar_items[toolbar_ind][2];\n",
       "        var method_name = mpl.toolbar_items[toolbar_ind][3];\n",
       "\n",
       "        if (!name) {\n",
       "            /* Instead of a spacer, we start a new button group. */\n",
       "            if (buttonGroup.hasChildNodes()) {\n",
       "                toolbar.appendChild(buttonGroup);\n",
       "            }\n",
       "            buttonGroup = document.createElement('div');\n",
       "            buttonGroup.classList = 'mpl-button-group';\n",
       "            continue;\n",
       "        }\n",
       "\n",
       "        var button = (fig.buttons[name] = document.createElement('button'));\n",
       "        button.classList = 'mpl-widget';\n",
       "        button.setAttribute('role', 'button');\n",
       "        button.setAttribute('aria-disabled', 'false');\n",
       "        button.addEventListener('click', on_click_closure(method_name));\n",
       "        button.addEventListener('mouseover', on_mouseover_closure(tooltip));\n",
       "\n",
       "        var icon_img = document.createElement('img');\n",
       "        icon_img.src = '_images/' + image + '.png';\n",
       "        icon_img.srcset = '_images/' + image + '_large.png 2x';\n",
       "        icon_img.alt = tooltip;\n",
       "        button.appendChild(icon_img);\n",
       "\n",
       "        buttonGroup.appendChild(button);\n",
       "    }\n",
       "\n",
       "    if (buttonGroup.hasChildNodes()) {\n",
       "        toolbar.appendChild(buttonGroup);\n",
       "    }\n",
       "\n",
       "    var fmt_picker = document.createElement('select');\n",
       "    fmt_picker.classList = 'mpl-widget';\n",
       "    toolbar.appendChild(fmt_picker);\n",
       "    this.format_dropdown = fmt_picker;\n",
       "\n",
       "    for (var ind in mpl.extensions) {\n",
       "        var fmt = mpl.extensions[ind];\n",
       "        var option = document.createElement('option');\n",
       "        option.selected = fmt === mpl.default_extension;\n",
       "        option.innerHTML = fmt;\n",
       "        fmt_picker.appendChild(option);\n",
       "    }\n",
       "\n",
       "    var status_bar = document.createElement('span');\n",
       "    status_bar.classList = 'mpl-message';\n",
       "    toolbar.appendChild(status_bar);\n",
       "    this.message = status_bar;\n",
       "};\n",
       "\n",
       "mpl.figure.prototype.request_resize = function (x_pixels, y_pixels) {\n",
       "    // Request matplotlib to resize the figure. Matplotlib will then trigger a resize in the client,\n",
       "    // which will in turn request a refresh of the image.\n",
       "    this.send_message('resize', { width: x_pixels, height: y_pixels });\n",
       "};\n",
       "\n",
       "mpl.figure.prototype.send_message = function (type, properties) {\n",
       "    properties['type'] = type;\n",
       "    properties['figure_id'] = this.id;\n",
       "    this.ws.send(JSON.stringify(properties));\n",
       "};\n",
       "\n",
       "mpl.figure.prototype.send_draw_message = function () {\n",
       "    if (!this.waiting) {\n",
       "        this.waiting = true;\n",
       "        this.ws.send(JSON.stringify({ type: 'draw', figure_id: this.id }));\n",
       "    }\n",
       "};\n",
       "\n",
       "mpl.figure.prototype.handle_save = function (fig, _msg) {\n",
       "    var format_dropdown = fig.format_dropdown;\n",
       "    var format = format_dropdown.options[format_dropdown.selectedIndex].value;\n",
       "    fig.ondownload(fig, format);\n",
       "};\n",
       "\n",
       "mpl.figure.prototype.handle_resize = function (fig, msg) {\n",
       "    var size = msg['size'];\n",
       "    if (size[0] !== fig.canvas.width || size[1] !== fig.canvas.height) {\n",
       "        fig._resize_canvas(size[0], size[1], msg['forward']);\n",
       "        fig.send_message('refresh', {});\n",
       "    }\n",
       "};\n",
       "\n",
       "mpl.figure.prototype.handle_rubberband = function (fig, msg) {\n",
       "    var x0 = msg['x0'] / fig.ratio;\n",
       "    var y0 = (fig.canvas.height - msg['y0']) / fig.ratio;\n",
       "    var x1 = msg['x1'] / fig.ratio;\n",
       "    var y1 = (fig.canvas.height - msg['y1']) / fig.ratio;\n",
       "    x0 = Math.floor(x0) + 0.5;\n",
       "    y0 = Math.floor(y0) + 0.5;\n",
       "    x1 = Math.floor(x1) + 0.5;\n",
       "    y1 = Math.floor(y1) + 0.5;\n",
       "    var min_x = Math.min(x0, x1);\n",
       "    var min_y = Math.min(y0, y1);\n",
       "    var width = Math.abs(x1 - x0);\n",
       "    var height = Math.abs(y1 - y0);\n",
       "\n",
       "    fig.rubberband_context.clearRect(\n",
       "        0,\n",
       "        0,\n",
       "        fig.canvas.width / fig.ratio,\n",
       "        fig.canvas.height / fig.ratio\n",
       "    );\n",
       "\n",
       "    fig.rubberband_context.strokeRect(min_x, min_y, width, height);\n",
       "};\n",
       "\n",
       "mpl.figure.prototype.handle_figure_label = function (fig, msg) {\n",
       "    // Updates the figure title.\n",
       "    fig.header.textContent = msg['label'];\n",
       "};\n",
       "\n",
       "mpl.figure.prototype.handle_cursor = function (fig, msg) {\n",
       "    fig.rubberband_canvas.style.cursor = msg['cursor'];\n",
       "};\n",
       "\n",
       "mpl.figure.prototype.handle_message = function (fig, msg) {\n",
       "    fig.message.textContent = msg['message'];\n",
       "};\n",
       "\n",
       "mpl.figure.prototype.handle_draw = function (fig, _msg) {\n",
       "    // Request the server to send over a new figure.\n",
       "    fig.send_draw_message();\n",
       "};\n",
       "\n",
       "mpl.figure.prototype.handle_image_mode = function (fig, msg) {\n",
       "    fig.image_mode = msg['mode'];\n",
       "};\n",
       "\n",
       "mpl.figure.prototype.handle_history_buttons = function (fig, msg) {\n",
       "    for (var key in msg) {\n",
       "        if (!(key in fig.buttons)) {\n",
       "            continue;\n",
       "        }\n",
       "        fig.buttons[key].disabled = !msg[key];\n",
       "        fig.buttons[key].setAttribute('aria-disabled', !msg[key]);\n",
       "    }\n",
       "};\n",
       "\n",
       "mpl.figure.prototype.handle_navigate_mode = function (fig, msg) {\n",
       "    if (msg['mode'] === 'PAN') {\n",
       "        fig.buttons['Pan'].classList.add('active');\n",
       "        fig.buttons['Zoom'].classList.remove('active');\n",
       "    } else if (msg['mode'] === 'ZOOM') {\n",
       "        fig.buttons['Pan'].classList.remove('active');\n",
       "        fig.buttons['Zoom'].classList.add('active');\n",
       "    } else {\n",
       "        fig.buttons['Pan'].classList.remove('active');\n",
       "        fig.buttons['Zoom'].classList.remove('active');\n",
       "    }\n",
       "};\n",
       "\n",
       "mpl.figure.prototype.updated_canvas_event = function () {\n",
       "    // Called whenever the canvas gets updated.\n",
       "    this.send_message('ack', {});\n",
       "};\n",
       "\n",
       "// A function to construct a web socket function for onmessage handling.\n",
       "// Called in the figure constructor.\n",
       "mpl.figure.prototype._make_on_message_function = function (fig) {\n",
       "    return function socket_on_message(evt) {\n",
       "        if (evt.data instanceof Blob) {\n",
       "            var img = evt.data;\n",
       "            if (img.type !== 'image/png') {\n",
       "                /* FIXME: We get \"Resource interpreted as Image but\n",
       "                 * transferred with MIME type text/plain:\" errors on\n",
       "                 * Chrome.  But how to set the MIME type?  It doesn't seem\n",
       "                 * to be part of the websocket stream */\n",
       "                img.type = 'image/png';\n",
       "            }\n",
       "\n",
       "            /* Free the memory for the previous frames */\n",
       "            if (fig.imageObj.src) {\n",
       "                (window.URL || window.webkitURL).revokeObjectURL(\n",
       "                    fig.imageObj.src\n",
       "                );\n",
       "            }\n",
       "\n",
       "            fig.imageObj.src = (window.URL || window.webkitURL).createObjectURL(\n",
       "                img\n",
       "            );\n",
       "            fig.updated_canvas_event();\n",
       "            fig.waiting = false;\n",
       "            return;\n",
       "        } else if (\n",
       "            typeof evt.data === 'string' &&\n",
       "            evt.data.slice(0, 21) === 'data:image/png;base64'\n",
       "        ) {\n",
       "            fig.imageObj.src = evt.data;\n",
       "            fig.updated_canvas_event();\n",
       "            fig.waiting = false;\n",
       "            return;\n",
       "        }\n",
       "\n",
       "        var msg = JSON.parse(evt.data);\n",
       "        var msg_type = msg['type'];\n",
       "\n",
       "        // Call the  \"handle_{type}\" callback, which takes\n",
       "        // the figure and JSON message as its only arguments.\n",
       "        try {\n",
       "            var callback = fig['handle_' + msg_type];\n",
       "        } catch (e) {\n",
       "            console.log(\n",
       "                \"No handler for the '\" + msg_type + \"' message type: \",\n",
       "                msg\n",
       "            );\n",
       "            return;\n",
       "        }\n",
       "\n",
       "        if (callback) {\n",
       "            try {\n",
       "                // console.log(\"Handling '\" + msg_type + \"' message: \", msg);\n",
       "                callback(fig, msg);\n",
       "            } catch (e) {\n",
       "                console.log(\n",
       "                    \"Exception inside the 'handler_\" + msg_type + \"' callback:\",\n",
       "                    e,\n",
       "                    e.stack,\n",
       "                    msg\n",
       "                );\n",
       "            }\n",
       "        }\n",
       "    };\n",
       "};\n",
       "\n",
       "// from https://stackoverflow.com/questions/1114465/getting-mouse-location-in-canvas\n",
       "mpl.findpos = function (e) {\n",
       "    //this section is from http://www.quirksmode.org/js/events_properties.html\n",
       "    var targ;\n",
       "    if (!e) {\n",
       "        e = window.event;\n",
       "    }\n",
       "    if (e.target) {\n",
       "        targ = e.target;\n",
       "    } else if (e.srcElement) {\n",
       "        targ = e.srcElement;\n",
       "    }\n",
       "    if (targ.nodeType === 3) {\n",
       "        // defeat Safari bug\n",
       "        targ = targ.parentNode;\n",
       "    }\n",
       "\n",
       "    // pageX,Y are the mouse positions relative to the document\n",
       "    var boundingRect = targ.getBoundingClientRect();\n",
       "    var x = e.pageX - (boundingRect.left + document.body.scrollLeft);\n",
       "    var y = e.pageY - (boundingRect.top + document.body.scrollTop);\n",
       "\n",
       "    return { x: x, y: y };\n",
       "};\n",
       "\n",
       "/*\n",
       " * return a copy of an object with only non-object keys\n",
       " * we need this to avoid circular references\n",
       " * https://stackoverflow.com/a/24161582/3208463\n",
       " */\n",
       "function simpleKeys(original) {\n",
       "    return Object.keys(original).reduce(function (obj, key) {\n",
       "        if (typeof original[key] !== 'object') {\n",
       "            obj[key] = original[key];\n",
       "        }\n",
       "        return obj;\n",
       "    }, {});\n",
       "}\n",
       "\n",
       "mpl.figure.prototype.mouse_event = function (event, name) {\n",
       "    var canvas_pos = mpl.findpos(event);\n",
       "\n",
       "    if (name === 'button_press') {\n",
       "        this.canvas.focus();\n",
       "        this.canvas_div.focus();\n",
       "    }\n",
       "\n",
       "    var x = canvas_pos.x * this.ratio;\n",
       "    var y = canvas_pos.y * this.ratio;\n",
       "\n",
       "    this.send_message(name, {\n",
       "        x: x,\n",
       "        y: y,\n",
       "        button: event.button,\n",
       "        step: event.step,\n",
       "        guiEvent: simpleKeys(event),\n",
       "    });\n",
       "\n",
       "    /* This prevents the web browser from automatically changing to\n",
       "     * the text insertion cursor when the button is pressed.  We want\n",
       "     * to control all of the cursor setting manually through the\n",
       "     * 'cursor' event from matplotlib */\n",
       "    event.preventDefault();\n",
       "    return false;\n",
       "};\n",
       "\n",
       "mpl.figure.prototype._key_event_extra = function (_event, _name) {\n",
       "    // Handle any extra behaviour associated with a key event\n",
       "};\n",
       "\n",
       "mpl.figure.prototype.key_event = function (event, name) {\n",
       "    // Prevent repeat events\n",
       "    if (name === 'key_press') {\n",
       "        if (event.key === this._key) {\n",
       "            return;\n",
       "        } else {\n",
       "            this._key = event.key;\n",
       "        }\n",
       "    }\n",
       "    if (name === 'key_release') {\n",
       "        this._key = null;\n",
       "    }\n",
       "\n",
       "    var value = '';\n",
       "    if (event.ctrlKey && event.key !== 'Control') {\n",
       "        value += 'ctrl+';\n",
       "    }\n",
       "    else if (event.altKey && event.key !== 'Alt') {\n",
       "        value += 'alt+';\n",
       "    }\n",
       "    else if (event.shiftKey && event.key !== 'Shift') {\n",
       "        value += 'shift+';\n",
       "    }\n",
       "\n",
       "    value += 'k' + event.key;\n",
       "\n",
       "    this._key_event_extra(event, name);\n",
       "\n",
       "    this.send_message(name, { key: value, guiEvent: simpleKeys(event) });\n",
       "    return false;\n",
       "};\n",
       "\n",
       "mpl.figure.prototype.toolbar_button_onclick = function (name) {\n",
       "    if (name === 'download') {\n",
       "        this.handle_save(this, null);\n",
       "    } else {\n",
       "        this.send_message('toolbar_button', { name: name });\n",
       "    }\n",
       "};\n",
       "\n",
       "mpl.figure.prototype.toolbar_button_onmouseover = function (tooltip) {\n",
       "    this.message.textContent = tooltip;\n",
       "};\n",
       "\n",
       "///////////////// REMAINING CONTENT GENERATED BY embed_js.py /////////////////\n",
       "// prettier-ignore\n",
       "var _JSXTOOLS_RESIZE_OBSERVER=function(A){var t,i=new WeakMap,n=new WeakMap,a=new WeakMap,r=new WeakMap,o=new Set;function s(e){if(!(this instanceof s))throw new TypeError(\"Constructor requires 'new' operator\");i.set(this,e)}function h(){throw new TypeError(\"Function is not a constructor\")}function c(e,t,i,n){e=0 in arguments?Number(arguments[0]):0,t=1 in arguments?Number(arguments[1]):0,i=2 in arguments?Number(arguments[2]):0,n=3 in arguments?Number(arguments[3]):0,this.right=(this.x=this.left=e)+(this.width=i),this.bottom=(this.y=this.top=t)+(this.height=n),Object.freeze(this)}function d(){t=requestAnimationFrame(d);var s=new WeakMap,p=new Set;o.forEach((function(t){r.get(t).forEach((function(i){var r=t instanceof window.SVGElement,o=a.get(t),d=r?0:parseFloat(o.paddingTop),f=r?0:parseFloat(o.paddingRight),l=r?0:parseFloat(o.paddingBottom),u=r?0:parseFloat(o.paddingLeft),g=r?0:parseFloat(o.borderTopWidth),m=r?0:parseFloat(o.borderRightWidth),w=r?0:parseFloat(o.borderBottomWidth),b=u+f,F=d+l,v=(r?0:parseFloat(o.borderLeftWidth))+m,W=g+w,y=r?0:t.offsetHeight-W-t.clientHeight,E=r?0:t.offsetWidth-v-t.clientWidth,R=b+v,z=F+W,M=r?t.width:parseFloat(o.width)-R-E,O=r?t.height:parseFloat(o.height)-z-y;if(n.has(t)){var k=n.get(t);if(k[0]===M&&k[1]===O)return}n.set(t,[M,O]);var S=Object.create(h.prototype);S.target=t,S.contentRect=new c(u,d,M,O),s.has(i)||(s.set(i,[]),p.add(i)),s.get(i).push(S)}))})),p.forEach((function(e){i.get(e).call(e,s.get(e),e)}))}return s.prototype.observe=function(i){if(i instanceof window.Element){r.has(i)||(r.set(i,new Set),o.add(i),a.set(i,window.getComputedStyle(i)));var n=r.get(i);n.has(this)||n.add(this),cancelAnimationFrame(t),t=requestAnimationFrame(d)}},s.prototype.unobserve=function(i){if(i instanceof window.Element&&r.has(i)){var n=r.get(i);n.has(this)&&(n.delete(this),n.size||(r.delete(i),o.delete(i))),n.size||r.delete(i),o.size||cancelAnimationFrame(t)}},A.DOMRectReadOnly=c,A.ResizeObserver=s,A.ResizeObserverEntry=h,A}; // eslint-disable-line\n",
       "mpl.toolbar_items = [[\"Home\", \"Reset original view\", \"fa fa-home icon-home\", \"home\"], [\"Back\", \"Back to previous view\", \"fa fa-arrow-left icon-arrow-left\", \"back\"], [\"Forward\", \"Forward to next view\", \"fa fa-arrow-right icon-arrow-right\", \"forward\"], [\"\", \"\", \"\", \"\"], [\"Pan\", \"Left button pans, Right button zooms\\nx/y fixes axis, CTRL fixes aspect\", \"fa fa-arrows icon-move\", \"pan\"], [\"Zoom\", \"Zoom to rectangle\\nx/y fixes axis\", \"fa fa-square-o icon-check-empty\", \"zoom\"], [\"\", \"\", \"\", \"\"], [\"Download\", \"Download plot\", \"fa fa-floppy-o icon-save\", \"download\"]];\n",
       "\n",
       "mpl.extensions = [\"eps\", \"jpeg\", \"pgf\", \"pdf\", \"png\", \"ps\", \"raw\", \"svg\", \"tif\"];\n",
       "\n",
       "mpl.default_extension = \"png\";/* global mpl */\n",
       "\n",
       "var comm_websocket_adapter = function (comm) {\n",
       "    // Create a \"websocket\"-like object which calls the given IPython comm\n",
       "    // object with the appropriate methods. Currently this is a non binary\n",
       "    // socket, so there is still some room for performance tuning.\n",
       "    var ws = {};\n",
       "\n",
       "    ws.binaryType = comm.kernel.ws.binaryType;\n",
       "    ws.readyState = comm.kernel.ws.readyState;\n",
       "    function updateReadyState(_event) {\n",
       "        if (comm.kernel.ws) {\n",
       "            ws.readyState = comm.kernel.ws.readyState;\n",
       "        } else {\n",
       "            ws.readyState = 3; // Closed state.\n",
       "        }\n",
       "    }\n",
       "    comm.kernel.ws.addEventListener('open', updateReadyState);\n",
       "    comm.kernel.ws.addEventListener('close', updateReadyState);\n",
       "    comm.kernel.ws.addEventListener('error', updateReadyState);\n",
       "\n",
       "    ws.close = function () {\n",
       "        comm.close();\n",
       "    };\n",
       "    ws.send = function (m) {\n",
       "        //console.log('sending', m);\n",
       "        comm.send(m);\n",
       "    };\n",
       "    // Register the callback with on_msg.\n",
       "    comm.on_msg(function (msg) {\n",
       "        //console.log('receiving', msg['content']['data'], msg);\n",
       "        var data = msg['content']['data'];\n",
       "        if (data['blob'] !== undefined) {\n",
       "            data = {\n",
       "                data: new Blob(msg['buffers'], { type: data['blob'] }),\n",
       "            };\n",
       "        }\n",
       "        // Pass the mpl event to the overridden (by mpl) onmessage function.\n",
       "        ws.onmessage(data);\n",
       "    });\n",
       "    return ws;\n",
       "};\n",
       "\n",
       "mpl.mpl_figure_comm = function (comm, msg) {\n",
       "    // This is the function which gets called when the mpl process\n",
       "    // starts-up an IPython Comm through the \"matplotlib\" channel.\n",
       "\n",
       "    var id = msg.content.data.id;\n",
       "    // Get hold of the div created by the display call when the Comm\n",
       "    // socket was opened in Python.\n",
       "    var element = document.getElementById(id);\n",
       "    var ws_proxy = comm_websocket_adapter(comm);\n",
       "\n",
       "    function ondownload(figure, _format) {\n",
       "        window.open(figure.canvas.toDataURL());\n",
       "    }\n",
       "\n",
       "    var fig = new mpl.figure(id, ws_proxy, ondownload, element);\n",
       "\n",
       "    // Call onopen now - mpl needs it, as it is assuming we've passed it a real\n",
       "    // web socket which is closed, not our websocket->open comm proxy.\n",
       "    ws_proxy.onopen();\n",
       "\n",
       "    fig.parent_element = element;\n",
       "    fig.cell_info = mpl.find_output_cell(\"<div id='\" + id + \"'></div>\");\n",
       "    if (!fig.cell_info) {\n",
       "        console.error('Failed to find cell for figure', id, fig);\n",
       "        return;\n",
       "    }\n",
       "    fig.cell_info[0].output_area.element.on(\n",
       "        'cleared',\n",
       "        { fig: fig },\n",
       "        fig._remove_fig_handler\n",
       "    );\n",
       "};\n",
       "\n",
       "mpl.figure.prototype.handle_close = function (fig, msg) {\n",
       "    var width = fig.canvas.width / fig.ratio;\n",
       "    fig.cell_info[0].output_area.element.off(\n",
       "        'cleared',\n",
       "        fig._remove_fig_handler\n",
       "    );\n",
       "    fig.resizeObserverInstance.unobserve(fig.canvas_div);\n",
       "\n",
       "    // Update the output cell to use the data from the current canvas.\n",
       "    fig.push_to_output();\n",
       "    var dataURL = fig.canvas.toDataURL();\n",
       "    // Re-enable the keyboard manager in IPython - without this line, in FF,\n",
       "    // the notebook keyboard shortcuts fail.\n",
       "    IPython.keyboard_manager.enable();\n",
       "    fig.parent_element.innerHTML =\n",
       "        '<img src=\"' + dataURL + '\" width=\"' + width + '\">';\n",
       "    fig.close_ws(fig, msg);\n",
       "};\n",
       "\n",
       "mpl.figure.prototype.close_ws = function (fig, msg) {\n",
       "    fig.send_message('closing', msg);\n",
       "    // fig.ws.close()\n",
       "};\n",
       "\n",
       "mpl.figure.prototype.push_to_output = function (_remove_interactive) {\n",
       "    // Turn the data on the canvas into data in the output cell.\n",
       "    var width = this.canvas.width / this.ratio;\n",
       "    var dataURL = this.canvas.toDataURL();\n",
       "    this.cell_info[1]['text/html'] =\n",
       "        '<img src=\"' + dataURL + '\" width=\"' + width + '\">';\n",
       "};\n",
       "\n",
       "mpl.figure.prototype.updated_canvas_event = function () {\n",
       "    // Tell IPython that the notebook contents must change.\n",
       "    IPython.notebook.set_dirty(true);\n",
       "    this.send_message('ack', {});\n",
       "    var fig = this;\n",
       "    // Wait a second, then push the new image to the DOM so\n",
       "    // that it is saved nicely (might be nice to debounce this).\n",
       "    setTimeout(function () {\n",
       "        fig.push_to_output();\n",
       "    }, 1000);\n",
       "};\n",
       "\n",
       "mpl.figure.prototype._init_toolbar = function () {\n",
       "    var fig = this;\n",
       "\n",
       "    var toolbar = document.createElement('div');\n",
       "    toolbar.classList = 'btn-toolbar';\n",
       "    this.root.appendChild(toolbar);\n",
       "\n",
       "    function on_click_closure(name) {\n",
       "        return function (_event) {\n",
       "            return fig.toolbar_button_onclick(name);\n",
       "        };\n",
       "    }\n",
       "\n",
       "    function on_mouseover_closure(tooltip) {\n",
       "        return function (event) {\n",
       "            if (!event.currentTarget.disabled) {\n",
       "                return fig.toolbar_button_onmouseover(tooltip);\n",
       "            }\n",
       "        };\n",
       "    }\n",
       "\n",
       "    fig.buttons = {};\n",
       "    var buttonGroup = document.createElement('div');\n",
       "    buttonGroup.classList = 'btn-group';\n",
       "    var button;\n",
       "    for (var toolbar_ind in mpl.toolbar_items) {\n",
       "        var name = mpl.toolbar_items[toolbar_ind][0];\n",
       "        var tooltip = mpl.toolbar_items[toolbar_ind][1];\n",
       "        var image = mpl.toolbar_items[toolbar_ind][2];\n",
       "        var method_name = mpl.toolbar_items[toolbar_ind][3];\n",
       "\n",
       "        if (!name) {\n",
       "            /* Instead of a spacer, we start a new button group. */\n",
       "            if (buttonGroup.hasChildNodes()) {\n",
       "                toolbar.appendChild(buttonGroup);\n",
       "            }\n",
       "            buttonGroup = document.createElement('div');\n",
       "            buttonGroup.classList = 'btn-group';\n",
       "            continue;\n",
       "        }\n",
       "\n",
       "        button = fig.buttons[name] = document.createElement('button');\n",
       "        button.classList = 'btn btn-default';\n",
       "        button.href = '#';\n",
       "        button.title = name;\n",
       "        button.innerHTML = '<i class=\"fa ' + image + ' fa-lg\"></i>';\n",
       "        button.addEventListener('click', on_click_closure(method_name));\n",
       "        button.addEventListener('mouseover', on_mouseover_closure(tooltip));\n",
       "        buttonGroup.appendChild(button);\n",
       "    }\n",
       "\n",
       "    if (buttonGroup.hasChildNodes()) {\n",
       "        toolbar.appendChild(buttonGroup);\n",
       "    }\n",
       "\n",
       "    // Add the status bar.\n",
       "    var status_bar = document.createElement('span');\n",
       "    status_bar.classList = 'mpl-message pull-right';\n",
       "    toolbar.appendChild(status_bar);\n",
       "    this.message = status_bar;\n",
       "\n",
       "    // Add the close button to the window.\n",
       "    var buttongrp = document.createElement('div');\n",
       "    buttongrp.classList = 'btn-group inline pull-right';\n",
       "    button = document.createElement('button');\n",
       "    button.classList = 'btn btn-mini btn-primary';\n",
       "    button.href = '#';\n",
       "    button.title = 'Stop Interaction';\n",
       "    button.innerHTML = '<i class=\"fa fa-power-off icon-remove icon-large\"></i>';\n",
       "    button.addEventListener('click', function (_evt) {\n",
       "        fig.handle_close(fig, {});\n",
       "    });\n",
       "    button.addEventListener(\n",
       "        'mouseover',\n",
       "        on_mouseover_closure('Stop Interaction')\n",
       "    );\n",
       "    buttongrp.appendChild(button);\n",
       "    var titlebar = this.root.querySelector('.ui-dialog-titlebar');\n",
       "    titlebar.insertBefore(buttongrp, titlebar.firstChild);\n",
       "};\n",
       "\n",
       "mpl.figure.prototype._remove_fig_handler = function (event) {\n",
       "    var fig = event.data.fig;\n",
       "    if (event.target !== this) {\n",
       "        // Ignore bubbled events from children.\n",
       "        return;\n",
       "    }\n",
       "    fig.close_ws(fig, {});\n",
       "};\n",
       "\n",
       "mpl.figure.prototype._root_extra_style = function (el) {\n",
       "    el.style.boxSizing = 'content-box'; // override notebook setting of border-box.\n",
       "};\n",
       "\n",
       "mpl.figure.prototype._canvas_extra_style = function (el) {\n",
       "    // this is important to make the div 'focusable\n",
       "    el.setAttribute('tabindex', 0);\n",
       "    // reach out to IPython and tell the keyboard manager to turn it's self\n",
       "    // off when our div gets focus\n",
       "\n",
       "    // location in version 3\n",
       "    if (IPython.notebook.keyboard_manager) {\n",
       "        IPython.notebook.keyboard_manager.register_events(el);\n",
       "    } else {\n",
       "        // location in version 2\n",
       "        IPython.keyboard_manager.register_events(el);\n",
       "    }\n",
       "};\n",
       "\n",
       "mpl.figure.prototype._key_event_extra = function (event, _name) {\n",
       "    // Check for shift+enter\n",
       "    if (event.shiftKey && event.which === 13) {\n",
       "        this.canvas_div.blur();\n",
       "        // select the cell after this one\n",
       "        var index = IPython.notebook.find_cell_index(this.cell_info[0]);\n",
       "        IPython.notebook.select(index + 1);\n",
       "    }\n",
       "};\n",
       "\n",
       "mpl.figure.prototype.handle_save = function (fig, _msg) {\n",
       "    fig.ondownload(fig, null);\n",
       "};\n",
       "\n",
       "mpl.find_output_cell = function (html_output) {\n",
       "    // Return the cell and output element which can be found *uniquely* in the notebook.\n",
       "    // Note - this is a bit hacky, but it is done because the \"notebook_saving.Notebook\"\n",
       "    // IPython event is triggered only after the cells have been serialised, which for\n",
       "    // our purposes (turning an active figure into a static one), is too late.\n",
       "    var cells = IPython.notebook.get_cells();\n",
       "    var ncells = cells.length;\n",
       "    for (var i = 0; i < ncells; i++) {\n",
       "        var cell = cells[i];\n",
       "        if (cell.cell_type === 'code') {\n",
       "            for (var j = 0; j < cell.output_area.outputs.length; j++) {\n",
       "                var data = cell.output_area.outputs[j];\n",
       "                if (data.data) {\n",
       "                    // IPython >= 3 moved mimebundle to data attribute of output\n",
       "                    data = data.data;\n",
       "                }\n",
       "                if (data['text/html'] === html_output) {\n",
       "                    return [cell, data, j];\n",
       "                }\n",
       "            }\n",
       "        }\n",
       "    }\n",
       "};\n",
       "\n",
       "// Register the function which deals with the matplotlib target/channel.\n",
       "// The kernel may be null if the page has been refreshed.\n",
       "if (IPython.notebook.kernel !== null) {\n",
       "    IPython.notebook.kernel.comm_manager.register_target(\n",
       "        'matplotlib',\n",
       "        mpl.mpl_figure_comm\n",
       "    );\n",
       "}\n"
      ],
      "text/plain": [
       "<IPython.core.display.Javascript object>"
      ]
     },
     "metadata": {},
     "output_type": "display_data"
    },
    {
     "data": {
      "text/html": [
       "<img src=\"data:image/png;base64,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\" width=\"948.8889140258607\">"
      ],
      "text/plain": [
       "<IPython.core.display.HTML object>"
      ]
     },
     "metadata": {},
     "output_type": "display_data"
    },
    {
     "data": {
      "text/plain": [
       "(array([0, 1, 2, 3, 4]),\n",
       " [Text(0, 0, '(Abuja, School)'),\n",
       "  Text(1, 0, '(Lagos, House)'),\n",
       "  Text(2, 0, '(Lagos, Land)'),\n",
       "  Text(3, 0, '(Lagos, Shop)'),\n",
       "  Text(4, 0, '(Oyo, Land)')])"
      ]
     },
     "execution_count": 46,
     "metadata": {},
     "output_type": "execute_result"
    }
   ],
   "source": [
    "%matplotlib notebook\n",
    "plt.figure()\n",
    "PropertyType_State = property_df4.groupby(['State_Property_Located','Property_Type'])['Date_added'].count().plot(kind = 'bar')\n",
    "plt.xticks(rotation=0)"
   ]
  },
  {
   "cell_type": "markdown",
   "id": "74ab246f",
   "metadata": {},
   "source": [
    "## Which property has the highest number of bathrooms, beds and toilets?\n",
    "\n",
    "Grouping the nature of property by number of beds, bathrooms and toilets"
   ]
  },
  {
   "cell_type": "code",
   "execution_count": 34,
   "id": "69280b9c",
   "metadata": {},
   "outputs": [
    {
     "data": {
      "text/html": [
       "<div>\n",
       "<style scoped>\n",
       "    .dataframe tbody tr th:only-of-type {\n",
       "        vertical-align: middle;\n",
       "    }\n",
       "\n",
       "    .dataframe tbody tr th {\n",
       "        vertical-align: top;\n",
       "    }\n",
       "\n",
       "    .dataframe thead th {\n",
       "        text-align: right;\n",
       "    }\n",
       "</style>\n",
       "<table border=\"1\" class=\"dataframe\">\n",
       "  <thead>\n",
       "    <tr style=\"text-align: right;\">\n",
       "      <th></th>\n",
       "      <th>Nature_of_property</th>\n",
       "      <th>No_of_beds</th>\n",
       "    </tr>\n",
       "  </thead>\n",
       "  <tbody>\n",
       "    <tr>\n",
       "      <th>0</th>\n",
       "      <td>10 BEDROOM COMMERCIAL PROPERTY FOR SALE</td>\n",
       "      <td>10.0</td>\n",
       "    </tr>\n",
       "    <tr>\n",
       "      <th>1</th>\n",
       "      <td>3 BEDROOM FLAT / APARTMENT FOR SALE</td>\n",
       "      <td>6.0</td>\n",
       "    </tr>\n",
       "    <tr>\n",
       "      <th>2</th>\n",
       "      <td>4 BEDROOM HOUSE FOR SALE</td>\n",
       "      <td>4.0</td>\n",
       "    </tr>\n",
       "    <tr>\n",
       "      <th>3</th>\n",
       "      <td>6 BEDROOM HOUSE FOR SALE</td>\n",
       "      <td>6.0</td>\n",
       "    </tr>\n",
       "    <tr>\n",
       "      <th>4</th>\n",
       "      <td>COMMERCIAL PROPERTY FOR SALE</td>\n",
       "      <td>0.0</td>\n",
       "    </tr>\n",
       "    <tr>\n",
       "      <th>5</th>\n",
       "      <td>HOUSE FOR SALE</td>\n",
       "      <td>0.0</td>\n",
       "    </tr>\n",
       "    <tr>\n",
       "      <th>6</th>\n",
       "      <td>LAND FOR SALE</td>\n",
       "      <td>0.0</td>\n",
       "    </tr>\n",
       "  </tbody>\n",
       "</table>\n",
       "</div>"
      ],
      "text/plain": [
       "                        Nature_of_property  No_of_beds\n",
       "0  10 BEDROOM COMMERCIAL PROPERTY FOR SALE        10.0\n",
       "1      3 BEDROOM FLAT / APARTMENT FOR SALE         6.0\n",
       "2                 4 BEDROOM HOUSE FOR SALE         4.0\n",
       "3                 6 BEDROOM HOUSE FOR SALE         6.0\n",
       "4             COMMERCIAL PROPERTY FOR SALE         0.0\n",
       "5                           HOUSE FOR SALE         0.0\n",
       "6                            LAND FOR SALE         0.0"
      ]
     },
     "execution_count": 34,
     "metadata": {},
     "output_type": "execute_result"
    }
   ],
   "source": [
    "beds = property_df4.groupby(\"Nature_of_property\", as_index=False).agg({\"No_of_beds\":\"sum\"})\n",
    "beds"
   ]
  },
  {
   "cell_type": "code",
   "execution_count": 35,
   "id": "69a78aaa",
   "metadata": {},
   "outputs": [],
   "source": [
    "beds = beds.sort_values('No_of_beds', ascending = False).reset_index()"
   ]
  },
  {
   "cell_type": "code",
   "execution_count": 37,
   "id": "c23de7d6",
   "metadata": {},
   "outputs": [
    {
     "data": {
      "image/png": "[encoded data removed]",
      "text/plain": [
       "<Figure size 864x432 with 1 Axes>"
      ]
     },
     "metadata": {
      "needs_background": "light"
     },
     "output_type": "display_data"
    },
    {
     "data": {
      "text/plain": [
       "<Figure size 432x288 with 0 Axes>"
      ]
     },
     "metadata": {},
     "output_type": "display_data"
    }
   ],
   "source": [
    "fig, ax = plt.subplots(figsize= (12,6))\n",
    "g = sns.barplot(data = beds, x = \"Nature_of_property\", y = \"No_of_beds\", ax = ax)\n",
    "g.set(title = \"Number of Beds per property\",\n",
    "     xlabel = \"Property\", \n",
    "     ylabel = \"Number of Beds\")\n",
    "plt.xticks(rotation = 90)\n",
    "plt.show()\n",
    "plt.clf()"
   ]
  },
  {
   "cell_type": "code",
   "execution_count": 38,
   "id": "4209b43a",
   "metadata": {},
   "outputs": [
    {
     "data": {
      "text/html": [
       "<div>\n",
       "<style scoped>\n",
       "    .dataframe tbody tr th:only-of-type {\n",
       "        vertical-align: middle;\n",
       "    }\n",
       "\n",
       "    .dataframe tbody tr th {\n",
       "        vertical-align: top;\n",
       "    }\n",
       "\n",
       "    .dataframe thead th {\n",
       "        text-align: right;\n",
       "    }\n",
       "</style>\n",
       "<table border=\"1\" class=\"dataframe\">\n",
       "  <thead>\n",
       "    <tr style=\"text-align: right;\">\n",
       "      <th></th>\n",
       "      <th>Nature_of_property</th>\n",
       "      <th>No_of_baths</th>\n",
       "    </tr>\n",
       "  </thead>\n",
       "  <tbody>\n",
       "    <tr>\n",
       "      <th>0</th>\n",
       "      <td>10 BEDROOM COMMERCIAL PROPERTY FOR SALE</td>\n",
       "      <td>10.0</td>\n",
       "    </tr>\n",
       "    <tr>\n",
       "      <th>1</th>\n",
       "      <td>3 BEDROOM FLAT / APARTMENT FOR SALE</td>\n",
       "      <td>6.0</td>\n",
       "    </tr>\n",
       "    <tr>\n",
       "      <th>2</th>\n",
       "      <td>4 BEDROOM HOUSE FOR SALE</td>\n",
       "      <td>4.0</td>\n",
       "    </tr>\n",
       "    <tr>\n",
       "      <th>3</th>\n",
       "      <td>6 BEDROOM HOUSE FOR SALE</td>\n",
       "      <td>7.0</td>\n",
       "    </tr>\n",
       "    <tr>\n",
       "      <th>4</th>\n",
       "      <td>COMMERCIAL PROPERTY FOR SALE</td>\n",
       "      <td>0.0</td>\n",
       "    </tr>\n",
       "    <tr>\n",
       "      <th>5</th>\n",
       "      <td>HOUSE FOR SALE</td>\n",
       "      <td>0.0</td>\n",
       "    </tr>\n",
       "    <tr>\n",
       "      <th>6</th>\n",
       "      <td>LAND FOR SALE</td>\n",
       "      <td>0.0</td>\n",
       "    </tr>\n",
       "  </tbody>\n",
       "</table>\n",
       "</div>"
      ],
      "text/plain": [
       "                        Nature_of_property  No_of_baths\n",
       "0  10 BEDROOM COMMERCIAL PROPERTY FOR SALE         10.0\n",
       "1      3 BEDROOM FLAT / APARTMENT FOR SALE          6.0\n",
       "2                 4 BEDROOM HOUSE FOR SALE          4.0\n",
       "3                 6 BEDROOM HOUSE FOR SALE          7.0\n",
       "4             COMMERCIAL PROPERTY FOR SALE          0.0\n",
       "5                           HOUSE FOR SALE          0.0\n",
       "6                            LAND FOR SALE          0.0"
      ]
     },
     "execution_count": 38,
     "metadata": {},
     "output_type": "execute_result"
    }
   ],
   "source": [
    "baths = property_df4.groupby(\"Nature_of_property\", as_index=False).agg({\"No_of_baths\":\"sum\"})\n",
    "baths"
   ]
  },
  {
   "cell_type": "code",
   "execution_count": 39,
   "id": "24375517",
   "metadata": {},
   "outputs": [],
   "source": [
    "baths = baths.sort_values('No_of_baths', ascending = False).reset_index()"
   ]
  },
  {
   "cell_type": "code",
   "execution_count": 40,
   "id": "87d9f909",
   "metadata": {},
   "outputs": [
    {
     "data": {
      "image/png": "[encoded data removed]",
      "text/plain": [
       "<Figure size 864x432 with 1 Axes>"
      ]
     },
     "metadata": {
      "needs_background": "light"
     },
     "output_type": "display_data"
    },
    {
     "data": {
      "text/plain": [
       "<Figure size 432x288 with 0 Axes>"
      ]
     },
     "metadata": {},
     "output_type": "display_data"
    }
   ],
   "source": [
    "fig, ax = plt.subplots(figsize= (12,6))\n",
    "g = sns.barplot(data = baths, x = \"Nature_of_property\", y = \"No_of_baths\", ax = ax)\n",
    "g.set(title = \"Number of Bathrooms per property\",\n",
    "     xlabel = \"Property\", \n",
    "     ylabel = \"Number of Bathrooms\")\n",
    "plt.xticks(rotation = 90)\n",
    "plt.show()\n",
    "plt.clf()"
   ]
  },
  {
   "cell_type": "code",
   "execution_count": 41,
   "id": "c69ee560",
   "metadata": {},
   "outputs": [
    {
     "data": {
      "text/html": [
       "<div>\n",
       "<style scoped>\n",
       "    .dataframe tbody tr th:only-of-type {\n",
       "        vertical-align: middle;\n",
       "    }\n",
       "\n",
       "    .dataframe tbody tr th {\n",
       "        vertical-align: top;\n",
       "    }\n",
       "\n",
       "    .dataframe thead th {\n",
       "        text-align: right;\n",
       "    }\n",
       "</style>\n",
       "<table border=\"1\" class=\"dataframe\">\n",
       "  <thead>\n",
       "    <tr style=\"text-align: right;\">\n",
       "      <th></th>\n",
       "      <th>Nature_of_property</th>\n",
       "      <th>No_of_toilets</th>\n",
       "    </tr>\n",
       "  </thead>\n",
       "  <tbody>\n",
       "    <tr>\n",
       "      <th>0</th>\n",
       "      <td>10 BEDROOM COMMERCIAL PROPERTY FOR SALE</td>\n",
       "      <td>10.0</td>\n",
       "    </tr>\n",
       "    <tr>\n",
       "      <th>1</th>\n",
       "      <td>3 BEDROOM FLAT / APARTMENT FOR SALE</td>\n",
       "      <td>6.0</td>\n",
       "    </tr>\n",
       "    <tr>\n",
       "      <th>2</th>\n",
       "      <td>4 BEDROOM HOUSE FOR SALE</td>\n",
       "      <td>5.0</td>\n",
       "    </tr>\n",
       "    <tr>\n",
       "      <th>3</th>\n",
       "      <td>6 BEDROOM HOUSE FOR SALE</td>\n",
       "      <td>6.0</td>\n",
       "    </tr>\n",
       "    <tr>\n",
       "      <th>4</th>\n",
       "      <td>COMMERCIAL PROPERTY FOR SALE</td>\n",
       "      <td>0.0</td>\n",
       "    </tr>\n",
       "    <tr>\n",
       "      <th>5</th>\n",
       "      <td>HOUSE FOR SALE</td>\n",
       "      <td>0.0</td>\n",
       "    </tr>\n",
       "    <tr>\n",
       "      <th>6</th>\n",
       "      <td>LAND FOR SALE</td>\n",
       "      <td>0.0</td>\n",
       "    </tr>\n",
       "  </tbody>\n",
       "</table>\n",
       "</div>"
      ],
      "text/plain": [
       "                        Nature_of_property  No_of_toilets\n",
       "0  10 BEDROOM COMMERCIAL PROPERTY FOR SALE           10.0\n",
       "1      3 BEDROOM FLAT / APARTMENT FOR SALE            6.0\n",
       "2                 4 BEDROOM HOUSE FOR SALE            5.0\n",
       "3                 6 BEDROOM HOUSE FOR SALE            6.0\n",
       "4             COMMERCIAL PROPERTY FOR SALE            0.0\n",
       "5                           HOUSE FOR SALE            0.0\n",
       "6                            LAND FOR SALE            0.0"
      ]
     },
     "execution_count": 41,
     "metadata": {},
     "output_type": "execute_result"
    }
   ],
   "source": [
    "toilets = property_df4.groupby(\"Nature_of_property\", as_index=False).agg({\"No_of_toilets\":\"sum\"})\n",
    "toilets"
   ]
  },
  {
   "cell_type": "code",
   "execution_count": 42,
   "id": "5afffb70",
   "metadata": {},
   "outputs": [],
   "source": [
    "toilets = property_df4.sort_values('No_of_toilets', ascending = False).reset_index()"
   ]
  },
  {
   "cell_type": "code",
   "execution_count": 43,
   "id": "bc7c6029",
   "metadata": {},
   "outputs": [
    {
     "data": {
      "image/png": "[encoded data removed]",
      "text/plain": [
       "<Figure size 864x432 with 1 Axes>"
      ]
     },
     "metadata": {
      "needs_background": "light"
     },
     "output_type": "display_data"
    },
    {
     "data": {
      "text/plain": [
       "<Figure size 432x288 with 0 Axes>"
      ]
     },
     "metadata": {},
     "output_type": "display_data"
    }
   ],
   "source": [
    "fig, ax = plt.subplots(figsize= (12,6))\n",
    "g = sns.barplot(data = toilets, x = \"Nature_of_property\", y = \"No_of_toilets\", ax = ax)\n",
    "g.set(title = \"Number of Toilets per property\",\n",
    "     xlabel = \"Property\", \n",
    "     ylabel = \"Number of Toilets\")\n",
    "plt.xticks(rotation = 90)\n",
    "plt.show()\n",
    "plt.clf()"
   ]
  },
  {
   "cell_type": "markdown",
   "id": "1376fe43",
   "metadata": {},
   "source": [
    "## Which State has the property with the highest number of beds, baths and toilets? i.e. the state having the 10 BEDROOM COMMERCIAL PROPERTY FOR SALE\n",
    "\n",
    "To answer this, I group the state, number of beds, bathrooms and toilets by the nature of property"
   ]
  },
  {
   "cell_type": "code",
   "execution_count": 44,
   "id": "7b854157",
   "metadata": {},
   "outputs": [
    {
     "data": {
      "text/plain": [
       "State_Property_Located  No_of_beds  No_of_baths  No_of_toilets\n",
       "Abuja                   10.0        10.0         10.0              1\n",
       "Lagos                   0.0         0.0          0.0              21\n",
       "                        3.0         3.0          3.0               2\n",
       "                        4.0         4.0          5.0               1\n",
       "                        6.0         7.0          6.0               1\n",
       "Oyo                     0.0         0.0          0.0               1\n",
       "Name: Nature_of_property, dtype: int64"
      ]
     },
     "execution_count": 44,
     "metadata": {},
     "output_type": "execute_result"
    }
   ],
   "source": [
    "# To identify the state having property with the highest number of beds, baths and toilets\n",
    "\n",
    "State_bed_baths_toilets = property_df4.groupby(['State_Property_Located','No_of_beds','No_of_baths','No_of_toilets']\n",
    "                                              )['Nature_of_property'].count()\n",
    "\n",
    "State_bed_baths_toilets"
   ]
  },
  {
   "cell_type": "code",
   "execution_count": 45,
   "id": "6d7f1890",
   "metadata": {},
   "outputs": [],
   "source": [
    "# Saving the data\n",
    "\n",
    "property_df4.to_csv(\"New Property data.csv\")"
   ]
  },
  {
   "cell_type": "code",
   "execution_count": null,
   "id": "821380ed",
   "metadata": {},
   "outputs": [],
   "source": []
  }
 ],
 "metadata": {
  "kernelspec": {
   "display_name": "Python 3 (ipykernel)",
   "language": "python",
   "name": "python3"
  },
  "language_info": {
   "codemirror_mode": {
    "name": "ipython",
    "version": 3
   },
   "file_extension": ".py",
   "mimetype": "text/x-python",
   "name": "python",
   "nbconvert_exporter": "python",
   "pygments_lexer": "ipython3",
   "version": "3.9.12"
  }
 },
 "nbformat": 4,
 "nbformat_minor": 5
}
