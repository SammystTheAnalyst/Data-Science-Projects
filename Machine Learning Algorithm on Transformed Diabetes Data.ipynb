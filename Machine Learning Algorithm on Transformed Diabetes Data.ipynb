{
 "cells": [
  {
   "cell_type": "code",
   "execution_count": 1,
   "id": "1bdafafb",
   "metadata": {},
   "outputs": [],
   "source": [
    "import pandas as pd\n",
    "import numpy as np"
   ]
  },
  {
   "cell_type": "code",
   "execution_count": 2,
   "id": "a5ec6c23",
   "metadata": {},
   "outputs": [
    {
     "data": {
      "text/html": [
       "<div>\n",
       "<style scoped>\n",
       "    .dataframe tbody tr th:only-of-type {\n",
       "        vertical-align: middle;\n",
       "    }\n",
       "\n",
       "    .dataframe tbody tr th {\n",
       "        vertical-align: top;\n",
       "    }\n",
       "\n",
       "    .dataframe thead th {\n",
       "        text-align: right;\n",
       "    }\n",
       "</style>\n",
       "<table border=\"1\" class=\"dataframe\">\n",
       "  <thead>\n",
       "    <tr style=\"text-align: right;\">\n",
       "      <th></th>\n",
       "      <th>Pregnancies</th>\n",
       "      <th>Glucose</th>\n",
       "      <th>BloodPressure</th>\n",
       "      <th>SkinThickness</th>\n",
       "      <th>Insulin</th>\n",
       "      <th>BMI</th>\n",
       "      <th>DiabetesPedigreeFunction</th>\n",
       "      <th>Age</th>\n",
       "      <th>Outcome</th>\n",
       "    </tr>\n",
       "  </thead>\n",
       "  <tbody>\n",
       "    <tr>\n",
       "      <th>0</th>\n",
       "      <td>0.293647</td>\n",
       "      <td>0.389263</td>\n",
       "      <td>0.068664</td>\n",
       "      <td>0.416311</td>\n",
       "      <td>-0.317941</td>\n",
       "      <td>0.093614</td>\n",
       "      <td>0.214973</td>\n",
       "      <td>0.654334</td>\n",
       "      <td>1</td>\n",
       "    </tr>\n",
       "    <tr>\n",
       "      <th>1</th>\n",
       "      <td>-0.458093</td>\n",
       "      <td>-0.609101</td>\n",
       "      <td>-0.087047</td>\n",
       "      <td>0.287852</td>\n",
       "      <td>-0.375682</td>\n",
       "      <td>-0.371091</td>\n",
       "      <td>-0.197934</td>\n",
       "      <td>-0.103381</td>\n",
       "      <td>0</td>\n",
       "    </tr>\n",
       "    <tr>\n",
       "      <th>2</th>\n",
       "      <td>0.408951</td>\n",
       "      <td>0.644218</td>\n",
       "      <td>-0.087479</td>\n",
       "      <td>-0.426959</td>\n",
       "      <td>-0.229648</td>\n",
       "      <td>-0.365657</td>\n",
       "      <td>0.200318</td>\n",
       "      <td>-0.034994</td>\n",
       "      <td>1</td>\n",
       "    </tr>\n",
       "    <tr>\n",
       "      <th>3</th>\n",
       "      <td>-0.425010</td>\n",
       "      <td>-0.502137</td>\n",
       "      <td>-0.080761</td>\n",
       "      <td>0.077736</td>\n",
       "      <td>0.062026</td>\n",
       "      <td>-0.248523</td>\n",
       "      <td>-0.463179</td>\n",
       "      <td>-0.523940</td>\n",
       "      <td>0</td>\n",
       "    </tr>\n",
       "    <tr>\n",
       "      <th>4</th>\n",
       "      <td>-0.186954</td>\n",
       "      <td>0.082528</td>\n",
       "      <td>-0.246360</td>\n",
       "      <td>0.148546</td>\n",
       "      <td>0.125389</td>\n",
       "      <td>0.230816</td>\n",
       "      <td>0.898036</td>\n",
       "      <td>-0.003356</td>\n",
       "      <td>1</td>\n",
       "    </tr>\n",
       "  </tbody>\n",
       "</table>\n",
       "</div>"
      ],
      "text/plain": [
       "   Pregnancies   Glucose  BloodPressure  SkinThickness   Insulin       BMI  \\\n",
       "0     0.293647  0.389263       0.068664       0.416311 -0.317941  0.093614   \n",
       "1    -0.458093 -0.609101      -0.087047       0.287852 -0.375682 -0.371091   \n",
       "2     0.408951  0.644218      -0.087479      -0.426959 -0.229648 -0.365657   \n",
       "3    -0.425010 -0.502137      -0.080761       0.077736  0.062026 -0.248523   \n",
       "4    -0.186954  0.082528      -0.246360       0.148546  0.125389  0.230816   \n",
       "\n",
       "   DiabetesPedigreeFunction       Age  Outcome  \n",
       "0                  0.214973  0.654334        1  \n",
       "1                 -0.197934 -0.103381        0  \n",
       "2                  0.200318 -0.034994        1  \n",
       "3                 -0.463179 -0.523940        0  \n",
       "4                  0.898036 -0.003356        1  "
      ]
     },
     "execution_count": 2,
     "metadata": {},
     "output_type": "execute_result"
    }
   ],
   "source": [
    "df = pd.read_csv(\"Transformed Diabetes Data.csv\")\n",
    "df.head()"
   ]
  },
  {
   "cell_type": "code",
   "execution_count": 3,
   "id": "4a1729b8",
   "metadata": {},
   "outputs": [],
   "source": [
    "# Assigning variables\n",
    "\n",
    "X = df.drop(\"Outcome\", axis=1)\n",
    "\n",
    "Y = df[\"Outcome\"]"
   ]
  },
  {
   "cell_type": "code",
   "execution_count": 4,
   "id": "0ebbb285",
   "metadata": {},
   "outputs": [],
   "source": [
    "# Importing RandomForestClassifier\n",
    "\n",
    "from sklearn.ensemble import RandomForestClassifier\n",
    "clf = RandomForestClassifier()"
   ]
  },
  {
   "cell_type": "code",
   "execution_count": 5,
   "id": "9048fdf2",
   "metadata": {},
   "outputs": [],
   "source": [
    "# Splitting into train and test features\n",
    "\n",
    "from sklearn.model_selection import train_test_split\n",
    "\n",
    "X_train, X_test, Y_train, Y_test = train_test_split(X, Y, test_size = 0.3)"
   ]
  },
  {
   "cell_type": "code",
   "execution_count": 6,
   "id": "a2b7e8f8",
   "metadata": {},
   "outputs": [
    {
     "data": {
      "text/plain": [
       "RandomForestClassifier()"
      ]
     },
     "execution_count": 6,
     "metadata": {},
     "output_type": "execute_result"
    }
   ],
   "source": [
    "clf.fit(X_train, Y_train)"
   ]
  },
  {
   "cell_type": "code",
   "execution_count": 7,
   "id": "12421c41",
   "metadata": {},
   "outputs": [
    {
     "data": {
      "text/plain": [
       "array([0, 0, 0, 1, 1, 0, 0, 0, 0, 0, 0, 0, 1, 0, 0, 0, 0, 1, 0, 0, 1, 0,\n",
       "       0, 1, 1, 1, 1, 0, 1, 1, 0, 1, 0, 0, 0, 0, 0, 1, 1, 0, 0, 0, 0, 0,\n",
       "       1, 0, 0, 1, 0, 1, 0, 0, 1, 0, 0, 0, 0, 0, 0, 1, 0, 0, 0, 1, 1, 0,\n",
       "       1, 1, 0, 0, 1, 0, 1, 0, 0, 0, 0, 0, 1, 1, 1, 1, 0, 0, 0, 0, 0, 0,\n",
       "       0, 0, 0, 1, 1, 1, 0, 0, 0, 0, 0, 0, 1, 0, 0, 0, 0, 0, 0, 0, 0, 0,\n",
       "       0, 0, 0, 0, 1, 0, 1, 1, 1, 1, 0, 0, 0, 1, 0, 0, 1, 0, 1, 0, 1, 0,\n",
       "       1, 1, 0, 0, 1, 0, 0, 1, 0, 0, 0, 0, 0, 1, 0, 0, 1, 0, 0, 0, 1, 0,\n",
       "       0, 0, 0, 0, 0, 0, 0, 0, 0, 1, 0, 0, 1, 0, 0, 0, 0, 0, 1, 0, 0, 0,\n",
       "       1, 1, 0, 0, 0, 0, 1, 1, 1, 0, 1, 1, 0, 0, 1, 0, 0, 0, 1, 0, 0, 0,\n",
       "       0, 1, 0, 0, 0, 0, 0, 0, 0, 1, 0, 0, 0, 0, 0, 0, 0, 1, 0, 0, 0, 0,\n",
       "       1, 0, 0, 0, 0, 1, 0, 1, 1, 0, 0], dtype=int64)"
      ]
     },
     "execution_count": 7,
     "metadata": {},
     "output_type": "execute_result"
    }
   ],
   "source": [
    "# Predicting X_test\n",
    "\n",
    "Y_preds = clf.predict(X_test)\n",
    "Y_preds"
   ]
  },
  {
   "cell_type": "code",
   "execution_count": 8,
   "id": "8b16ddc9",
   "metadata": {},
   "outputs": [
    {
     "data": {
      "text/plain": [
       "653    0\n",
       "741    0\n",
       "50     0\n",
       "130    1\n",
       "748    1\n",
       "      ..\n",
       "196    0\n",
       "219    1\n",
       "298    1\n",
       "554    0\n",
       "133    0\n",
       "Name: Outcome, Length: 231, dtype: int64"
      ]
     },
     "execution_count": 8,
     "metadata": {},
     "output_type": "execute_result"
    }
   ],
   "source": [
    "Y_test"
   ]
  },
  {
   "cell_type": "code",
   "execution_count": 9,
   "id": "81037137",
   "metadata": {},
   "outputs": [
    {
     "data": {
      "text/plain": [
       "1.0"
      ]
     },
     "execution_count": 9,
     "metadata": {},
     "output_type": "execute_result"
    }
   ],
   "source": [
    "clf.score(X_train, Y_train)"
   ]
  },
  {
   "cell_type": "code",
   "execution_count": 10,
   "id": "7e8c3d30",
   "metadata": {},
   "outputs": [
    {
     "data": {
      "text/plain": [
       "0.7965367965367965"
      ]
     },
     "execution_count": 10,
     "metadata": {},
     "output_type": "execute_result"
    }
   ],
   "source": [
    "clf.score(X_test, Y_test)"
   ]
  },
  {
   "cell_type": "code",
   "execution_count": 11,
   "id": "1e22ac0d",
   "metadata": {},
   "outputs": [
    {
     "name": "stdout",
     "output_type": "stream",
     "text": [
      "              precision    recall  f1-score   support\n",
      "\n",
      "           0       0.83      0.87      0.85       156\n",
      "           1       0.71      0.64      0.67        75\n",
      "\n",
      "    accuracy                           0.80       231\n",
      "   macro avg       0.77      0.76      0.76       231\n",
      "weighted avg       0.79      0.80      0.79       231\n",
      "\n"
     ]
    }
   ],
   "source": [
    "# Checking the metrics of the model\n",
    "\n",
    "from sklearn.metrics import confusion_matrix, accuracy_score, classification_report\n",
    "print(classification_report(Y_test, Y_preds))"
   ]
  },
  {
   "cell_type": "code",
   "execution_count": 12,
   "id": "c168ec6c",
   "metadata": {},
   "outputs": [
    {
     "data": {
      "text/plain": [
       "0.7965367965367965"
      ]
     },
     "execution_count": 12,
     "metadata": {},
     "output_type": "execute_result"
    }
   ],
   "source": [
    "accuracy_score(Y_test, Y_preds)"
   ]
  },
  {
   "cell_type": "code",
   "execution_count": 13,
   "id": "54f4d48c",
   "metadata": {},
   "outputs": [
    {
     "data": {
      "text/plain": [
       "array([[136,  20],\n",
       "       [ 27,  48]], dtype=int64)"
      ]
     },
     "execution_count": 13,
     "metadata": {},
     "output_type": "execute_result"
    }
   ],
   "source": [
    "confusion_matrix(Y_test, Y_preds)"
   ]
  },
  {
   "cell_type": "code",
   "execution_count": 14,
   "id": "b32312c6",
   "metadata": {},
   "outputs": [
    {
     "name": "stdout",
     "output_type": "stream",
     "text": [
      "Trying model with 10 estimators...\n",
      "Model accuracy on test set:  77.92%\n",
      "\n",
      "Trying model with 20 estimators...\n",
      "Model accuracy on test set:  77.49%\n",
      "\n",
      "Trying model with 30 estimators...\n",
      "Model accuracy on test set:  77.92%\n",
      "\n",
      "Trying model with 40 estimators...\n",
      "Model accuracy on test set:  77.49%\n",
      "\n",
      "Trying model with 50 estimators...\n",
      "Model accuracy on test set:  75.32%\n",
      "\n",
      "Trying model with 60 estimators...\n",
      "Model accuracy on test set:  80.09%\n",
      "\n",
      "Trying model with 70 estimators...\n",
      "Model accuracy on test set:  80.09%\n",
      "\n",
      "Trying model with 80 estimators...\n",
      "Model accuracy on test set:  78.35%\n",
      "\n",
      "Trying model with 90 estimators...\n",
      "Model accuracy on test set:  77.49%\n",
      "\n"
     ]
    }
   ],
   "source": [
    "# Improve a model\n",
    "# Try different amount of n_estimators\n",
    "\n",
    "np.random.seed(42)\n",
    "for i in range(10, 100, 10):\n",
    "    print(f\"Trying model with {i} estimators...\")\n",
    "    clf = RandomForestClassifier(n_estimators=i).fit(X_train, Y_train)\n",
    "    print(f\"Model accuracy on test set: {clf.score(X_test, Y_test) * 100: .2f}%\")\n",
    "    print(\"\")"
   ]
  },
  {
   "cell_type": "code",
   "execution_count": 18,
   "id": "d188bb23",
   "metadata": {},
   "outputs": [],
   "source": [
    "# Saving the model\n",
    "import pickle\n",
    "\n",
    "pickle.dump(clf, open(\"Random_Forest_Model_on_Transformed_Diabetes.pkl\", \"wb\"))"
   ]
  }
 ],
 "metadata": {
  "kernelspec": {
   "display_name": "Python 3 (ipykernel)",
   "language": "python",
   "name": "python3"
  },
  "language_info": {
   "codemirror_mode": {
    "name": "ipython",
    "version": 3
   },
   "file_extension": ".py",
   "mimetype": "text/x-python",
   "name": "python",
   "nbconvert_exporter": "python",
   "pygments_lexer": "ipython3",
   "version": "3.9.12"
  }
 },
 "nbformat": 4,
 "nbformat_minor": 5
}
